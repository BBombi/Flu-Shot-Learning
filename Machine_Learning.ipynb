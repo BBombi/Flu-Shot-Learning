{
 "cells": [
  {
   "cell_type": "markdown",
   "metadata": {},
   "source": [
    "# 1. Import Libraries"
   ]
  },
  {
   "cell_type": "code",
   "execution_count": 1,
   "metadata": {},
   "outputs": [],
   "source": [
    "import pandas as pd\n",
    "import matplotlib.pyplot as plt\n",
    "import numpy as np\n",
    "\n",
    "# Preprocessing\n",
    "from sklearn.preprocessing import MinMaxScaler, RobustScaler, StandardScaler\n",
    "from sklearn.pipeline import Pipeline\n",
    "\n",
    "# Cross-validation:\n",
    "from sklearn.model_selection import KFold, cross_validate, train_test_split, cross_val_predict, StratifiedKFold\n",
    "\n",
    "# Metrics\n",
    "from sklearn.metrics import make_scorer, PredictionErrorDisplay, accuracy_score, precision_score, f1_score, recall_score, balanced_accuracy_score, roc_auc_score\n",
    "# Confusion Matrix:\n",
    "from sklearn.model_selection import cross_val_predict\n",
    "from sklearn.metrics import confusion_matrix, ConfusionMatrixDisplay\n",
    "\n",
    "# Models\n",
    "from sklearn.neighbors import KNeighborsClassifier\n",
    "from sklearn.tree import DecisionTreeClassifier\n",
    "from sklearn.dummy import DummyClassifier\n",
    "from sklearn.linear_model import SGDClassifier, LogisticRegression\n",
    "from sklearn.ensemble import RandomForestClassifier, GradientBoostingClassifier\n",
    "from imblearn.ensemble import BalancedRandomForestClassifier\n",
    "from catboost import CatBoostClassifier\n",
    "\n",
    "# Hyperparameters optimization:\n",
    "from sklearn.model_selection import GridSearchCV, RandomizedSearchCV"
   ]
  },
  {
   "cell_type": "markdown",
   "metadata": {},
   "source": [
    "# 2. Import Dataset"
   ]
  },
  {
   "cell_type": "code",
   "execution_count": 2,
   "metadata": {},
   "outputs": [],
   "source": [
    "df = pd.read_csv('data/vaccines_features.csv', sep=',')"
   ]
  },
  {
   "cell_type": "markdown",
   "metadata": {},
   "source": [
    "### To do more manageable the dataset, we'll reduce it until 30%."
   ]
  },
  {
   "cell_type": "code",
   "execution_count": 3,
   "metadata": {},
   "outputs": [],
   "source": [
    "sample_df = df.sample(frac=0.3, replace=False, random_state=42)"
   ]
  },
  {
   "cell_type": "markdown",
   "metadata": {},
   "source": [
    "# 3. Cross Validation"
   ]
  },
  {
   "cell_type": "code",
   "execution_count": 4,
   "metadata": {},
   "outputs": [
    {
     "name": "stderr",
     "output_type": "stream",
     "text": [
      "c:\\Users\\Alumne_mati1\\AppData\\Local\\Programs\\Python\\Python312\\Lib\\site-packages\\sklearn\\metrics\\_scorer.py:610: FutureWarning: The `needs_threshold` and `needs_proba` parameter are deprecated in version 1.4 and will be removed in 1.6. You can either let `response_method` be `None` or set it to `predict` to preserve the same behaviour.\n",
      "  warnings.warn(\n"
     ]
    }
   ],
   "source": [
    "kf = StratifiedKFold(n_splits=5, shuffle=True, random_state=42)\n",
    "\n",
    "# Declare scores to be used\n",
    "scores = {\n",
    "    \"roc_auc\": make_scorer(roc_auc_score, needs_proba=True),\n",
    "    \"balanced_accuracy\": make_scorer(balanced_accuracy_score),\n",
    "    \"precision\": make_scorer(precision_score),\n",
    "    \"recall\": make_scorer(recall_score),\n",
    "    \"f1\": make_scorer(f1_score),\n",
    "    \"accuracy\": make_scorer(accuracy_score)\n",
    "}\n",
    "\n",
    "# Create a function to show the metrics:\n",
    "def print_metrics(cv_results):\n",
    "    for sc in scores.keys():\n",
    "        print(f\"Train {sc}: {round(cv_results[f'train_{sc}'].mean() * 100, 1)}%\")\n",
    "    print()\n",
    "    for sc in scores.keys():\n",
    "        print(f\"Validation {sc}: {round(cv_results[f'test_{sc}'].mean() * 100, 1)}%\")\n",
    "        \n",
    "# For Grid and Random Search:\n",
    "def print_search_metrics(search_results):\n",
    "    print(\"Best RandomSearchCV parameters: \", search_results.best_params_)\n",
    "    print()\n",
    "    print(\"train metrics:\")\n",
    "    print('Train ROC AUC:', round(search_results.cv_results_['mean_train_roc_auc'][search_results.best_index_] * 100 ,2))\n",
    "    print('Train balanced accuracy:', round(search_results.cv_results_['mean_train_balanced_accuracy'][search_results.best_index_] * 100 ,2))\n",
    "    print('Train accuracy:', round(search_results.cv_results_['mean_train_accuracy'][search_results.best_index_] * 100 ,2))\n",
    "    print('Train precision:', round(search_results.cv_results_['mean_train_precision'][search_results.best_index_] * 100 ,2))\n",
    "    print('Train recall:', round(search_results.cv_results_['mean_train_recall'][search_results.best_index_] * 100 ,2))\n",
    "    print('Train f1:', round(search_results.cv_results_['mean_train_f1'][search_results.best_index_] * 100 ,2))\n",
    "    print()\n",
    "    print(\"Validation metrics:\")\n",
    "    print('Validation ROC AUC:', round(search_results.cv_results_['mean_test_roc_auc'][search_results.best_index_] * 100 ,2))\n",
    "    print('Validation balanced accuracy:', round(search_results.cv_results_['mean_test_balanced_accuracy'][search_results.best_index_] * 100 ,2))\n",
    "    print('Validation accuracy:', round(search_results.cv_results_['mean_test_accuracy'][search_results.best_index_] * 100 ,2))\n",
    "    print('Validation precision:', round(search_results.cv_results_['mean_test_precision'][search_results.best_index_] * 100 ,2))\n",
    "    print('Validation recall:', round(search_results.cv_results_['mean_test_recall'][search_results.best_index_] * 100 ,2))\n",
    "    print('Validation f1:', round(search_results.cv_results_['mean_test_f1'][search_results.best_index_] * 100 ,2))"
   ]
  },
  {
   "cell_type": "markdown",
   "metadata": {},
   "source": [
    "# Split Train and Test:"
   ]
  },
  {
   "cell_type": "code",
   "execution_count": 5,
   "metadata": {},
   "outputs": [],
   "source": [
    "X = sample_df.drop([\"h1n1_vaccine\",\"seasonal_vaccine\"], axis=1)\n",
    "y = sample_df[[\"h1n1_vaccine\", \"seasonal_vaccine\"]]\n",
    "# Using 20% of the data for testing\n",
    "X_train, X_test, y_train, y_test = train_test_split(X, y, shuffle=True, stratify = y,\n",
    "                                                    test_size=0.2, random_state=42)"
   ]
  },
  {
   "cell_type": "markdown",
   "metadata": {},
   "source": [
    "# H1N1 Vaccine:\n",
    "## Baseline:\n",
    "### Most frequent:\n",
    "In this case, due that the dataset is imbalanced, we can apply the most frequent tecnique, that will lead us to an accuracy of the majority representation, despite we'll know that all the ones that have been vaccinated with the H1N1 vaccine will have a wrong prediction."
   ]
  },
  {
   "cell_type": "code",
   "execution_count": 6,
   "metadata": {},
   "outputs": [
    {
     "name": "stdout",
     "output_type": "stream",
     "text": [
      "Train roc_auc: 50.0%\n",
      "Train balanced_accuracy: 50.0%\n",
      "Train precision: 0.0%\n",
      "Train recall: 0.0%\n",
      "Train f1: 0.0%\n",
      "Train accuracy: 78.9%\n",
      "\n",
      "Validation roc_auc: 50.0%\n",
      "Validation balanced_accuracy: 50.0%\n",
      "Validation precision: 0.0%\n",
      "Validation recall: 0.0%\n",
      "Validation f1: 0.0%\n",
      "Validation accuracy: 78.9%\n"
     ]
    },
    {
     "name": "stderr",
     "output_type": "stream",
     "text": [
      "c:\\Users\\Alumne_mati1\\AppData\\Local\\Programs\\Python\\Python312\\Lib\\site-packages\\sklearn\\metrics\\_classification.py:1531: UndefinedMetricWarning: Precision is ill-defined and being set to 0.0 due to no predicted samples. Use `zero_division` parameter to control this behavior.\n",
      "  _warn_prf(average, modifier, f\"{metric.capitalize()} is\", len(result))\n",
      "c:\\Users\\Alumne_mati1\\AppData\\Local\\Programs\\Python\\Python312\\Lib\\site-packages\\sklearn\\metrics\\_classification.py:1531: UndefinedMetricWarning: Precision is ill-defined and being set to 0.0 due to no predicted samples. Use `zero_division` parameter to control this behavior.\n",
      "  _warn_prf(average, modifier, f\"{metric.capitalize()} is\", len(result))\n",
      "c:\\Users\\Alumne_mati1\\AppData\\Local\\Programs\\Python\\Python312\\Lib\\site-packages\\sklearn\\metrics\\_classification.py:1531: UndefinedMetricWarning: Precision is ill-defined and being set to 0.0 due to no predicted samples. Use `zero_division` parameter to control this behavior.\n",
      "  _warn_prf(average, modifier, f\"{metric.capitalize()} is\", len(result))\n",
      "c:\\Users\\Alumne_mati1\\AppData\\Local\\Programs\\Python\\Python312\\Lib\\site-packages\\sklearn\\metrics\\_classification.py:1531: UndefinedMetricWarning: Precision is ill-defined and being set to 0.0 due to no predicted samples. Use `zero_division` parameter to control this behavior.\n",
      "  _warn_prf(average, modifier, f\"{metric.capitalize()} is\", len(result))\n",
      "c:\\Users\\Alumne_mati1\\AppData\\Local\\Programs\\Python\\Python312\\Lib\\site-packages\\sklearn\\metrics\\_classification.py:1531: UndefinedMetricWarning: Precision is ill-defined and being set to 0.0 due to no predicted samples. Use `zero_division` parameter to control this behavior.\n",
      "  _warn_prf(average, modifier, f\"{metric.capitalize()} is\", len(result))\n",
      "c:\\Users\\Alumne_mati1\\AppData\\Local\\Programs\\Python\\Python312\\Lib\\site-packages\\sklearn\\metrics\\_classification.py:1531: UndefinedMetricWarning: Precision is ill-defined and being set to 0.0 due to no predicted samples. Use `zero_division` parameter to control this behavior.\n",
      "  _warn_prf(average, modifier, f\"{metric.capitalize()} is\", len(result))\n",
      "c:\\Users\\Alumne_mati1\\AppData\\Local\\Programs\\Python\\Python312\\Lib\\site-packages\\sklearn\\metrics\\_classification.py:1531: UndefinedMetricWarning: Precision is ill-defined and being set to 0.0 due to no predicted samples. Use `zero_division` parameter to control this behavior.\n",
      "  _warn_prf(average, modifier, f\"{metric.capitalize()} is\", len(result))\n",
      "c:\\Users\\Alumne_mati1\\AppData\\Local\\Programs\\Python\\Python312\\Lib\\site-packages\\sklearn\\metrics\\_classification.py:1531: UndefinedMetricWarning: Precision is ill-defined and being set to 0.0 due to no predicted samples. Use `zero_division` parameter to control this behavior.\n",
      "  _warn_prf(average, modifier, f\"{metric.capitalize()} is\", len(result))\n",
      "c:\\Users\\Alumne_mati1\\AppData\\Local\\Programs\\Python\\Python312\\Lib\\site-packages\\sklearn\\metrics\\_classification.py:1531: UndefinedMetricWarning: Precision is ill-defined and being set to 0.0 due to no predicted samples. Use `zero_division` parameter to control this behavior.\n",
      "  _warn_prf(average, modifier, f\"{metric.capitalize()} is\", len(result))\n",
      "c:\\Users\\Alumne_mati1\\AppData\\Local\\Programs\\Python\\Python312\\Lib\\site-packages\\sklearn\\metrics\\_classification.py:1531: UndefinedMetricWarning: Precision is ill-defined and being set to 0.0 due to no predicted samples. Use `zero_division` parameter to control this behavior.\n",
      "  _warn_prf(average, modifier, f\"{metric.capitalize()} is\", len(result))\n"
     ]
    }
   ],
   "source": [
    "## Most frequent:\n",
    "bl1 = DummyClassifier(strategy='most_frequent')\n",
    "bl1_cv = cross_validate(bl1, X_train, y_train[\"h1n1_vaccine\"], cv=kf,\n",
    "                       scoring=scores, return_train_score=True)\n",
    "\n",
    "print_metrics(bl1_cv)"
   ]
  },
  {
   "cell_type": "markdown",
   "metadata": {},
   "source": [
    "### Linear Regression Classifier"
   ]
  },
  {
   "cell_type": "code",
   "execution_count": 7,
   "metadata": {},
   "outputs": [
    {
     "name": "stdout",
     "output_type": "stream",
     "text": [
      "Train roc_auc: 86.0%\n",
      "Train balanced_accuracy: 71.3%\n",
      "Train precision: 72.4%\n",
      "Train recall: 47.5%\n",
      "Train f1: 57.3%\n",
      "Train accuracy: 85.1%\n",
      "\n",
      "Validation roc_auc: 84.5%\n",
      "Validation balanced_accuracy: 70.4%\n",
      "Validation precision: 69.7%\n",
      "Validation recall: 46.2%\n",
      "Validation f1: 55.5%\n",
      "Validation accuracy: 84.4%\n"
     ]
    }
   ],
   "source": [
    "lr1 = LogisticRegression(max_iter=10_000)\n",
    "lr1_cv = cross_validate(lr1, X_train, y_train[\"h1n1_vaccine\"].values.ravel(), cv=kf,\n",
    "                       scoring=scores, return_train_score=True)\n",
    "\n",
    "print_metrics(lr1_cv)"
   ]
  },
  {
   "cell_type": "markdown",
   "metadata": {},
   "source": [
    "With the linear regression baseline, we've improved a bit, but that's still a bit untrue, as what is most rellevant about H1N1 vaccination, is that the dataset is not balanced. There are way more indivuduals that hasn't been vaccinated than has been vaccinated. To deal this imbalanced dataset, we have to apply balancing methods. Let's try a final baseline model with balanced target and also applying cross validation:"
   ]
  },
  {
   "cell_type": "code",
   "execution_count": 8,
   "metadata": {},
   "outputs": [
    {
     "name": "stdout",
     "output_type": "stream",
     "text": [
      "Train roc_auc: 85.5%\n",
      "Train balanced_accuracy: 77.7%\n",
      "Train precision: 48.2%\n",
      "Train recall: 78.0%\n",
      "Train f1: 59.5%\n",
      "Train accuracy: 77.6%\n",
      "\n",
      "Validation roc_auc: 84.1%\n",
      "Validation balanced_accuracy: 76.4%\n",
      "Validation precision: 47.0%\n",
      "Validation recall: 75.7%\n",
      "Validation f1: 58.0%\n",
      "Validation accuracy: 76.8%\n"
     ]
    }
   ],
   "source": [
    "from imblearn.under_sampling import RandomUnderSampler\n",
    "from imblearn.pipeline import Pipeline as ImbPipeline\n",
    "\n",
    "bl1_pipe = ImbPipeline([\n",
    "    ('RUS', RandomUnderSampler()),\n",
    "    ('LR', LogisticRegression(max_iter=10_000))\n",
    " ])\n",
    "\n",
    "bl1_cv = cross_validate(bl1_pipe, X_train, y_train[\"h1n1_vaccine\"].values.ravel(), cv=kf,\n",
    "                       scoring=scores, return_train_score=True)\n",
    "\n",
    "print_metrics(bl1_cv)"
   ]
  },
  {
   "cell_type": "code",
   "execution_count": 9,
   "metadata": {},
   "outputs": [
    {
     "data": {
      "image/png": "[encoded data removed]",
      "text/plain": [
       "<Figure size 640x480 with 2 Axes>"
      ]
     },
     "metadata": {},
     "output_type": "display_data"
    }
   ],
   "source": [
    "# cross_val_predict returns the predictions for each data point in the validation sets\n",
    "bl1_val_preds = cross_val_predict(bl1_pipe,  X_train, y_train[\"h1n1_vaccine\"].values.ravel(), cv=kf)\n",
    "\n",
    "bl1_cm = confusion_matrix(y_train[\"h1n1_vaccine\"], bl1_val_preds, labels=[0, 1])\n",
    "bl1_disp = ConfusionMatrixDisplay(confusion_matrix=bl1_cm,\n",
    "                              display_labels=[0, 1])\n",
    "bl1_disp.plot()\n",
    "plt.show()"
   ]
  },
  {
   "cell_type": "markdown",
   "metadata": {},
   "source": [
    "Now that we have set a few baselines, let's start with more complex models as:\n",
    "## Random Forest:"
   ]
  },
  {
   "cell_type": "code",
   "execution_count": 10,
   "metadata": {},
   "outputs": [
    {
     "name": "stdout",
     "output_type": "stream",
     "text": [
      "Train roc_auc: 99.0%\n",
      "Train balanced_accuracy: 92.1%\n",
      "Train precision: 62.9%\n",
      "Train recall: 100.0%\n",
      "Train f1: 77.2%\n",
      "Train accuracy: 87.5%\n",
      "\n",
      "Validation roc_auc: 85.0%\n",
      "Validation balanced_accuracy: 77.8%\n",
      "Validation precision: 49.1%\n",
      "Validation recall: 76.9%\n",
      "Validation f1: 60.0%\n",
      "Validation accuracy: 78.3%\n"
     ]
    }
   ],
   "source": [
    "rf1_pipe = ImbPipeline([\n",
    "    ('RUS', RandomUnderSampler()),\n",
    "    ('RF', RandomForestClassifier(n_jobs=-1))\n",
    " ])\n",
    "\n",
    "rf1_cv = cross_validate(rf1_pipe, X_train, y_train[\"h1n1_vaccine\"].values.ravel(), cv=kf,\n",
    "                       scoring=scores, return_train_score=True)\n",
    "\n",
    "print_metrics(rf1_cv)"
   ]
  },
  {
   "cell_type": "code",
   "execution_count": 11,
   "metadata": {},
   "outputs": [
    {
     "data": {
      "image/png": "[encoded data removed]",
      "text/plain": [
       "<Figure size 640x480 with 2 Axes>"
      ]
     },
     "metadata": {},
     "output_type": "display_data"
    }
   ],
   "source": [
    "# cross_val_predict returns the predictions for each data point in the validation sets\n",
    "rf1_val_preds = cross_val_predict(rf1_pipe, X_train, y_train[\"h1n1_vaccine\"].values.ravel(), cv=kf)\n",
    "\n",
    "rf1_cm = confusion_matrix(y_train[\"h1n1_vaccine\"], rf1_val_preds, labels=[0, 1])\n",
    "rf1_disp = ConfusionMatrixDisplay(confusion_matrix=rf1_cm,\n",
    "                              display_labels=[0, 1])\n",
    "rf1_disp.plot()\n",
    "plt.show()"
   ]
  },
  {
   "cell_type": "code",
   "execution_count": 12,
   "metadata": {},
   "outputs": [],
   "source": [
    "# rf2_pipe = ImbPipeline([\n",
    "#     ('RUS', RandomUnderSampler()),\n",
    "#     ('RFC', RandomForestClassifier())\n",
    "#  ])\n",
    "\n",
    "# param_dist_rf = {\n",
    "#     \"RFC__n_estimators\": np.arange(50, 2000, 50),\n",
    "#     \"RFC__max_depth\": np.arange(2, 15),\n",
    "#     \"RFC__min_samples_split\": np.arange(2, 11),\n",
    "#     \"RFC__min_samples_leaf\": np.arange(1, 11),\n",
    "#     \"RFC__criterion\": ['entropy', 'log_loss', 'gini'],\n",
    "#     \"RFC__max_features\": [\"sqrt\", \"log2\", None, 0.7, 0.75, 0.8, 0.85, 0.9, 0.95]\n",
    "# }\n",
    "\n",
    "# rf2_rscv = RandomizedSearchCV(rf2_pipe,\n",
    "#                              param_distributions=param_dist_rf,\n",
    "#                              scoring=scores,\n",
    "#                              n_iter=100,\n",
    "#                              return_train_score=True,\n",
    "#                              # Fuction to select the best model\n",
    "#                              refit=lambda x: x[\"mean_test_roc_auc\"].argmax(),\n",
    "#                              cv=kf,\n",
    "#                              verbose=1,\n",
    "#                              n_jobs=-1)\n",
    "# rf2_rscv.fit(X_train, y_train[\"h1n1_vaccine\"].values.ravel())\n",
    "\n",
    "# print_search_metrics(rf2_rscv)"
   ]
  },
  {
   "cell_type": "code",
   "execution_count": 13,
   "metadata": {},
   "outputs": [
    {
     "ename": "NameError",
     "evalue": "name 'rf2_rscv' is not defined",
     "output_type": "error",
     "traceback": [
      "\u001b[1;31m---------------------------------------------------------------------------\u001b[0m",
      "\u001b[1;31mNameError\u001b[0m                                 Traceback (most recent call last)",
      "Cell \u001b[1;32mIn[13], line 2\u001b[0m\n\u001b[0;32m      1\u001b[0m \u001b[38;5;66;03m# Get the indices of the smallest MAE values\u001b[39;00m\n\u001b[1;32m----> 2\u001b[0m best_indices \u001b[38;5;241m=\u001b[39m np\u001b[38;5;241m.\u001b[39margsort(\u001b[43mrf2_rscv\u001b[49m\u001b[38;5;241m.\u001b[39mcv_results_[\u001b[38;5;124m'\u001b[39m\u001b[38;5;124mmean_test_roc_auc\u001b[39m\u001b[38;5;124m'\u001b[39m])[\u001b[38;5;241m-\u001b[39m\u001b[38;5;241m5\u001b[39m:]\n\u001b[0;32m      4\u001b[0m \u001b[38;5;66;03m# Show best MAEs and their corresponding hyperparams.\u001b[39;00m\n\u001b[0;32m      5\u001b[0m \u001b[38;5;28;01mfor\u001b[39;00m i \u001b[38;5;129;01min\u001b[39;00m best_indices:\n",
      "\u001b[1;31mNameError\u001b[0m: name 'rf2_rscv' is not defined"
     ]
    }
   ],
   "source": [
    "# # Get the indices of the smallest MAE values\n",
    "# best_indices = np.argsort(rf2_rscv.cv_results_['mean_test_roc_auc'])[-5:]\n",
    "\n",
    "# # Show best MAEs and their corresponding hyperparams.\n",
    "# for i in best_indices:\n",
    "#     print('ROC AUC:', round(rf2_rscv.cv_results_['mean_test_roc_auc'][i] * 100 ,2))\n",
    "#     print('Balanced Accuracy:', round(rf2_rscv.cv_results_['mean_test_balanced_accuracy'][i] * 100 ,2))\n",
    "#     print('Hyperparams:', rf2_rscv.cv_results_['params'][i])\n",
    "#     print()"
   ]
  },
  {
   "cell_type": "code",
   "execution_count": 14,
   "metadata": {},
   "outputs": [
    {
     "name": "stdout",
     "output_type": "stream",
     "text": [
      "Train roc_auc: 94.3%\n",
      "Train balanced_accuracy: 86.0%\n",
      "Train precision: 57.8%\n",
      "Train recall: 89.5%\n",
      "Train f1: 70.3%\n",
      "Train accuracy: 84.0%\n",
      "\n",
      "Validation roc_auc: 85.3%\n",
      "Validation balanced_accuracy: 77.8%\n",
      "Validation precision: 49.2%\n",
      "Validation recall: 76.9%\n",
      "Validation f1: 60.0%\n",
      "Validation accuracy: 78.3%\n"
     ]
    }
   ],
   "source": [
    "rf3_pipe = ImbPipeline([\n",
    "    ('RUS', RandomUnderSampler()),\n",
    "    ('RF', RandomForestClassifier(n_estimators=1950, \n",
    "                                  min_samples_split= 8, \n",
    "                                  min_samples_leaf=2, \n",
    "                                  max_features=\"sqrt\",\n",
    "                                  max_depth= 14,\n",
    "                                  criterion = \"entropy\",\n",
    "                                  n_jobs=-1))\n",
    " ])\n",
    "\n",
    "rf3_cv = cross_validate(rf3_pipe, X_train, y_train[\"h1n1_vaccine\"].values.ravel(), cv=kf,\n",
    "                       scoring=scores, return_train_score=True)\n",
    "\n",
    "print_metrics(rf3_cv)"
   ]
  },
  {
   "cell_type": "code",
   "execution_count": 15,
   "metadata": {},
   "outputs": [
    {
     "data": {
      "image/png": "[encoded data removed]",
      "text/plain": [
       "<Figure size 640x480 with 2 Axes>"
      ]
     },
     "metadata": {},
     "output_type": "display_data"
    }
   ],
   "source": [
    "# cross_val_predict returns the predictions for each data point in the validation sets\n",
    "rf3_val_preds = cross_val_predict(rf3_pipe, X_train, y_train[\"h1n1_vaccine\"].values.ravel(), cv=kf)\n",
    "\n",
    "rf3_cm = confusion_matrix(y_train[\"h1n1_vaccine\"], rf3_val_preds, labels=[0, 1])\n",
    "rf3_disp = ConfusionMatrixDisplay(confusion_matrix=rf3_cm,\n",
    "                              display_labels=[0, 1])\n",
    "rf3_disp.plot()\n",
    "plt.show()"
   ]
  },
  {
   "cell_type": "markdown",
   "metadata": {},
   "source": [
    "## Balanced Random Forest:"
   ]
  },
  {
   "cell_type": "code",
   "execution_count": 16,
   "metadata": {},
   "outputs": [
    {
     "name": "stdout",
     "output_type": "stream",
     "text": [
      "Train roc_auc: 99.9%\n",
      "Train balanced_accuracy: 94.3%\n",
      "Train precision: 70.0%\n",
      "Train recall: 100.0%\n",
      "Train f1: 82.4%\n",
      "Train accuracy: 91.0%\n",
      "\n",
      "Validation roc_auc: 84.9%\n",
      "Validation balanced_accuracy: 77.4%\n",
      "Validation precision: 49.2%\n",
      "Validation recall: 75.8%\n",
      "Validation f1: 59.7%\n",
      "Validation accuracy: 78.3%\n"
     ]
    }
   ],
   "source": [
    "brf1 = BalancedRandomForestClassifier(bootstrap=True, sampling_strategy=\"auto\", replacement=False)\n",
    "brf1_cv = cross_validate(brf1, X_train, y_train[\"h1n1_vaccine\"].values.ravel(), cv=kf, scoring=scores, return_train_score=True)\n",
    "\n",
    "print_metrics(brf1_cv)"
   ]
  },
  {
   "cell_type": "code",
   "execution_count": 17,
   "metadata": {},
   "outputs": [],
   "source": [
    "# param_dist_brf = {\n",
    "#     \"n_estimators\": np.arange(50, 2000, 50),\n",
    "#     \"criterion\": ['entropy', 'gini'],\n",
    "#     \"max_depth\": np.arange(2, 15),\n",
    "#     \"min_samples_split\": np.arange(2, 50),\n",
    "#     \"min_samples_leaf\": np.arange(2, 50),\n",
    "#     \"max_features\": [\"sqrt\", \"log2\", None, 0.7, 0.75, 0.8, 0.85, 0.9, 0.95]\n",
    "# }\n",
    "\n",
    "# brf_rscv = RandomizedSearchCV(BalancedRandomForestClassifier(bootstrap=True, sampling_strategy = \"auto\", replacement=False),\n",
    "#                              param_distributions=param_dist_brf,\n",
    "#                              scoring=scores,\n",
    "#                              n_iter=100,\n",
    "#                              return_train_score=True,\n",
    "#                              # Fuction to select the best model\n",
    "#                              refit=lambda x: x[\"mean_test_roc_auc\"].argmax(),\n",
    "#                              cv=kf,\n",
    "#                              verbose=1,\n",
    "#                              n_jobs=-1)\n",
    "\n",
    "# brf_rscv.fit(X_train, y_train[\"seasonal_vaccine\"].values.ravel())\n",
    "\n",
    "# print_search_metrics(brf_rscv)"
   ]
  },
  {
   "cell_type": "markdown",
   "metadata": {},
   "source": [
    "## Gradient Boosted Decision Trees (GBDT)"
   ]
  },
  {
   "cell_type": "code",
   "execution_count": 18,
   "metadata": {},
   "outputs": [
    {
     "name": "stdout",
     "output_type": "stream",
     "text": [
      "Train roc_auc: 89.2%\n",
      "Train balanced_accuracy: 81.0%\n",
      "Train precision: 53.2%\n",
      "Train recall: 81.2%\n",
      "Train f1: 64.3%\n",
      "Train accuracy: 80.9%\n",
      "\n",
      "Validation roc_auc: 85.6%\n",
      "Validation balanced_accuracy: 77.8%\n",
      "Validation precision: 49.7%\n",
      "Validation recall: 76.4%\n",
      "Validation f1: 60.2%\n",
      "Validation accuracy: 78.7%\n"
     ]
    }
   ],
   "source": [
    "gbdt1_pipe = ImbPipeline([\n",
    "    ('RUS', RandomUnderSampler()),\n",
    "    ('GBDT', GradientBoostingClassifier())\n",
    " ])\n",
    "\n",
    "gbdt1_cv = cross_validate(gbdt1_pipe, X_train, y_train[\"h1n1_vaccine\"].values.ravel(), cv=kf,\n",
    "                       scoring=scores, return_train_score=True)\n",
    "\n",
    "print_metrics(gbdt1_cv)"
   ]
  },
  {
   "cell_type": "code",
   "execution_count": 19,
   "metadata": {},
   "outputs": [
    {
     "data": {
      "image/png": "[encoded data removed]",
      "text/plain": [
       "<Figure size 640x480 with 2 Axes>"
      ]
     },
     "metadata": {},
     "output_type": "display_data"
    }
   ],
   "source": [
    "# cross_val_predict returns the predictions for each data point in the validation sets\n",
    "gbdt1_val_preds = cross_val_predict(gbdt1_pipe, X_train, y_train[\"h1n1_vaccine\"].values.ravel(), cv=kf)\n",
    "\n",
    "gbdt1_cm = confusion_matrix(y_train[\"h1n1_vaccine\"], gbdt1_val_preds, labels=[0, 1])\n",
    "gbdt1_disp = ConfusionMatrixDisplay(confusion_matrix=gbdt1_cm,\n",
    "                              display_labels=[0, 1])\n",
    "gbdt1_disp.plot()\n",
    "plt.show()"
   ]
  },
  {
   "cell_type": "code",
   "execution_count": 20,
   "metadata": {},
   "outputs": [],
   "source": [
    "# gbdt2_pipe = ImbPipeline([\n",
    "#     ('RUS', RandomUnderSampler()),\n",
    "#     ('GBDT', GradientBoostingClassifier())\n",
    "#  ])\n",
    "\n",
    "# param_dist_gbdt = {\n",
    "#     \"GBDT__loss\": [\"log_loss\", \"exponential\"],\n",
    "#     \"GBDT__learning_rate\": np.arange(0.025, 0.25, 0.025),\n",
    "#     \"GBDT__n_estimators\": np.arange(50, 2000, 50),\n",
    "#     \"GBDT__max_depth\": np.arange(2, 15),\n",
    "#     \"GBDT__min_samples_split\": np.arange(2, 25),\n",
    "#     \"GBDT__min_samples_leaf\": np.arange(1, 25),\n",
    "#     \"GBDT__criterion\": ['friedman_mse', 'squared_error'],\n",
    "#     \"GBDT__max_features\": [\"sqrt\", \"log2\", None, 0.7, 0.75, 0.8, 0.85, 0.9, 0.95]\n",
    "# }\n",
    "\n",
    "# gbdt2_rscv = RandomizedSearchCV(gbdt2_pipe,\n",
    "#                              param_distributions=param_dist_gbdt,\n",
    "#                              scoring=scores,\n",
    "#                              n_iter=100,\n",
    "#                              return_train_score=True,\n",
    "#                              # Fuction to select the best model\n",
    "#                              refit=lambda x: x[\"mean_test_roc_auc\"].argmax(),\n",
    "#                              cv=kf,\n",
    "#                              verbose=1,\n",
    "#                              n_jobs=-1)\n",
    "# gbdt2_rscv.fit(X_train, y_train[\"h1n1_vaccine\"].values.ravel())\n",
    "\n",
    "# print_search_metrics(gbdt2_rscv)"
   ]
  },
  {
   "cell_type": "code",
   "execution_count": 21,
   "metadata": {},
   "outputs": [
    {
     "name": "stdout",
     "output_type": "stream",
     "text": [
      "Train roc_auc: 88.1%\n",
      "Train balanced_accuracy: 79.8%\n",
      "Train precision: 51.9%\n",
      "Train recall: 79.2%\n",
      "Train f1: 62.7%\n",
      "Train accuracy: 80.1%\n",
      "\n",
      "Validation roc_auc: 85.8%\n",
      "Validation balanced_accuracy: 77.5%\n",
      "Validation precision: 49.2%\n",
      "Validation recall: 76.1%\n",
      "Validation f1: 59.8%\n",
      "Validation accuracy: 78.4%\n"
     ]
    }
   ],
   "source": [
    "gbdt2_pipe = ImbPipeline([\n",
    "    ('RUS', RandomUnderSampler()),\n",
    "    ('GBDT', GradientBoostingClassifier(n_estimators = 100,\n",
    "                                        min_samples_split = 3,\n",
    "                                        min_samples_leaf = 7,\n",
    "                                        max_features = 0.7,\n",
    "                                        max_depth = 2,\n",
    "                                        loss = \"log_loss\",\n",
    "                                        learning_rate = 0.175,\n",
    "                                        criterion = \"squared_error\"))\n",
    " ])\n",
    "\n",
    "gbdt2_cv = cross_validate(gbdt2_pipe, X_train, y_train[\"h1n1_vaccine\"].values.ravel(), cv=kf,\n",
    "                       scoring=scores, return_train_score=True)\n",
    "\n",
    "print_metrics(gbdt2_cv)"
   ]
  },
  {
   "cell_type": "code",
   "execution_count": 22,
   "metadata": {},
   "outputs": [
    {
     "data": {
      "image/png": "[encoded data removed]",
      "text/plain": [
       "<Figure size 640x480 with 2 Axes>"
      ]
     },
     "metadata": {},
     "output_type": "display_data"
    }
   ],
   "source": [
    "# cross_val_predict returns the predictions for each data point in the validation sets\n",
    "gbdt2_val_preds = cross_val_predict(gbdt2_pipe, X_train, y_train[\"h1n1_vaccine\"].values.ravel(), cv=kf)\n",
    "\n",
    "gbdt2_cm = confusion_matrix(y_train[\"h1n1_vaccine\"], gbdt2_val_preds, labels=[0, 1])\n",
    "gbdt2_disp = ConfusionMatrixDisplay(confusion_matrix=gbdt2_cm,\n",
    "                              display_labels=[0, 1])\n",
    "gbdt2_disp.plot()\n",
    "plt.show()"
   ]
  },
  {
   "cell_type": "markdown",
   "metadata": {},
   "source": [
    "# Seasonal Vaccine:\n",
    "## Baseline:\n",
    "### Most frequent:\n",
    "For the seasonal vaccine, we're lucky that our data is pretty much balanced, so it won't be necessary to do any adjustment to correct the imbalancement as we've done with the H1N1 vaccine prediction. On the other hand, for this case, it doesn't make sense to do a dummy classifier with the most frecuent class label, as it'll be almost 50%. We'll stablish our baseline witha k-NN algorithm with only 3 neighbours."
   ]
  },
  {
   "cell_type": "code",
   "execution_count": 23,
   "metadata": {},
   "outputs": [
    {
     "name": "stdout",
     "output_type": "stream",
     "text": [
      "Train roc_auc: 92.0%\n",
      "Train balanced_accuracy: 83.9%\n",
      "Train precision: 83.8%\n",
      "Train recall: 81.0%\n",
      "Train f1: 82.4%\n",
      "Train accuracy: 84.1%\n",
      "\n",
      "Validation roc_auc: 75.1%\n",
      "Validation balanced_accuracy: 70.9%\n",
      "Validation precision: 68.8%\n",
      "Validation recall: 67.7%\n",
      "Validation f1: 68.2%\n",
      "Validation accuracy: 71.1%\n"
     ]
    }
   ],
   "source": [
    "## Most frequent:\n",
    "bl2 = KNeighborsClassifier(n_neighbors=3)\n",
    "bl2_cv = cross_validate(bl2, X_train, y_train[\"seasonal_vaccine\"], cv=kf,\n",
    "                       scoring=scores, return_train_score=True)\n",
    "\n",
    "print_metrics(bl2_cv)"
   ]
  },
  {
   "cell_type": "code",
   "execution_count": 24,
   "metadata": {},
   "outputs": [
    {
     "data": {
      "image/png": "[encoded data removed]",
      "text/plain": [
       "<Figure size 640x480 with 2 Axes>"
      ]
     },
     "metadata": {},
     "output_type": "display_data"
    }
   ],
   "source": [
    "# cross_val_predict returns the predictions for each data point in the validation sets\n",
    "bl2_val_preds = cross_val_predict(bl2, X_train, y_train[\"seasonal_vaccine\"].values.ravel(), cv=kf)\n",
    "\n",
    "bl2_cm = confusion_matrix(y_train[\"seasonal_vaccine\"], bl2_val_preds, labels=[0, 1])\n",
    "bl2_disp = ConfusionMatrixDisplay(confusion_matrix=bl2_cm,\n",
    "                              display_labels=[0, 1])\n",
    "bl2_disp.plot()\n",
    "plt.show()"
   ]
  },
  {
   "cell_type": "markdown",
   "metadata": {},
   "source": [
    "### Linear Regression Classifier"
   ]
  },
  {
   "cell_type": "code",
   "execution_count": 25,
   "metadata": {},
   "outputs": [
    {
     "name": "stdout",
     "output_type": "stream",
     "text": [
      "Train roc_auc: 84.6%\n",
      "Train balanced_accuracy: 77.5%\n",
      "Train precision: 77.2%\n",
      "Train recall: 73.2%\n",
      "Train f1: 75.2%\n",
      "Train accuracy: 77.8%\n",
      "\n",
      "Validation roc_auc: 83.4%\n",
      "Validation balanced_accuracy: 76.3%\n",
      "Validation precision: 75.7%\n",
      "Validation recall: 72.2%\n",
      "Validation f1: 73.9%\n",
      "Validation accuracy: 76.7%\n"
     ]
    }
   ],
   "source": [
    "lr2 = LogisticRegression(max_iter=10_000)\n",
    "lr2_cv = cross_validate(lr2, X_train, y_train[\"seasonal_vaccine\"].values.ravel(), cv=kf,\n",
    "                       scoring=scores, return_train_score=True)\n",
    "\n",
    "print_metrics(lr2_cv)"
   ]
  },
  {
   "cell_type": "code",
   "execution_count": 26,
   "metadata": {},
   "outputs": [
    {
     "data": {
      "image/png": "[encoded data removed]",
      "text/plain": [
       "<Figure size 640x480 with 2 Axes>"
      ]
     },
     "metadata": {},
     "output_type": "display_data"
    }
   ],
   "source": [
    "# cross_val_predict returns the predictions for each data point in the validation sets\n",
    "lr2_val_preds = cross_val_predict(lr2, X_train, y_train[\"seasonal_vaccine\"].values.ravel(), cv=kf)\n",
    "\n",
    "lr2_cm = confusion_matrix(y_train[\"seasonal_vaccine\"], lr2_val_preds, labels=[0, 1])\n",
    "lr2_disp = ConfusionMatrixDisplay(confusion_matrix=lr2_cm,\n",
    "                              display_labels=[0, 1])\n",
    "lr2_disp.plot()\n",
    "plt.show()"
   ]
  },
  {
   "cell_type": "markdown",
   "metadata": {},
   "source": [
    "## Random Forest:"
   ]
  },
  {
   "cell_type": "code",
   "execution_count": 27,
   "metadata": {},
   "outputs": [
    {
     "name": "stdout",
     "output_type": "stream",
     "text": [
      "Train roc_auc: 100.0%\n",
      "Train balanced_accuracy: 100.0%\n",
      "Train precision: 100.0%\n",
      "Train recall: 100.0%\n",
      "Train f1: 100.0%\n",
      "Train accuracy: 100.0%\n",
      "\n",
      "Validation roc_auc: 84.7%\n",
      "Validation balanced_accuracy: 76.9%\n",
      "Validation precision: 76.7%\n",
      "Validation recall: 72.5%\n",
      "Validation f1: 74.5%\n",
      "Validation accuracy: 77.3%\n"
     ]
    }
   ],
   "source": [
    "rf4 = RandomForestClassifier(n_jobs=-1)\n",
    "\n",
    "rf4_cv = cross_validate(rf4, X_train, y_train[\"seasonal_vaccine\"].values.ravel(), cv=kf,\n",
    "                       scoring=scores, return_train_score=True)\n",
    "\n",
    "print_metrics(rf4_cv)"
   ]
  },
  {
   "cell_type": "code",
   "execution_count": 28,
   "metadata": {},
   "outputs": [
    {
     "data": {
      "image/png": "[encoded data removed]",
      "text/plain": [
       "<Figure size 640x480 with 2 Axes>"
      ]
     },
     "metadata": {},
     "output_type": "display_data"
    }
   ],
   "source": [
    "# cross_val_predict returns the predictions for each data point in the validation sets\n",
    "rf4_val_preds = cross_val_predict(rf4, X_train, y_train[\"seasonal_vaccine\"].values.ravel(), cv=kf)\n",
    "\n",
    "rf4_cm = confusion_matrix(y_train[\"seasonal_vaccine\"], rf4_val_preds, labels=[0, 1])\n",
    "rf4_disp = ConfusionMatrixDisplay(confusion_matrix=rf4_cm,\n",
    "                              display_labels=[0, 1])\n",
    "rf4_disp.plot()\n",
    "plt.show()"
   ]
  },
  {
   "cell_type": "code",
   "execution_count": 29,
   "metadata": {},
   "outputs": [],
   "source": [
    "# param_dist_rf = {\n",
    "#     \"n_estimators\": np.arange(50, 2000, 50),\n",
    "#     \"max_depth\": np.arange(2, 15),\n",
    "#     \"min_samples_split\": np.arange(2, 25),\n",
    "#     \"min_samples_leaf\": np.arange(2, 25),\n",
    "#     \"criterion\": ['entropy', 'log_loss', 'gini'],\n",
    "#     \"max_features\": [\"sqrt\", \"log2\", None, 0.7, 0.75, 0.8, 0.85, 0.9, 0.95]\n",
    "# }\n",
    "\n",
    "# rf5_rscv = RandomizedSearchCV(RandomForestClassifier(),\n",
    "#                              param_distributions=param_dist_rf,\n",
    "#                              scoring=scores,\n",
    "#                              n_iter=100,\n",
    "#                              return_train_score=True,\n",
    "#                              # Fuction to select the best model\n",
    "#                              refit=lambda x: x[\"mean_test_roc_auc\"].argmax(),\n",
    "#                              cv=kf,\n",
    "#                              verbose=1,\n",
    "#                              n_jobs=-1)\n",
    "# rf5_rscv.fit(X_train, y_train[\"seasonal_vaccine\"].values.ravel())\n",
    "\n",
    "# print_search_metrics(rf5_rscv)"
   ]
  },
  {
   "cell_type": "code",
   "execution_count": 30,
   "metadata": {},
   "outputs": [
    {
     "name": "stdout",
     "output_type": "stream",
     "text": [
      "Train roc_auc: 94.3%\n",
      "Train balanced_accuracy: 86.0%\n",
      "Train precision: 86.9%\n",
      "Train recall: 82.5%\n",
      "Train f1: 84.6%\n",
      "Train accuracy: 86.3%\n",
      "\n",
      "Validation roc_auc: 85.0%\n",
      "Validation balanced_accuracy: 77.2%\n",
      "Validation precision: 77.1%\n",
      "Validation recall: 72.7%\n",
      "Validation f1: 74.8%\n",
      "Validation accuracy: 77.6%\n"
     ]
    }
   ],
   "source": [
    "rf5 = RandomForestClassifier(n_estimators=1_950,\n",
    "                             min_samples_split=14,\n",
    "                             min_samples_leaf=3,\n",
    "                             max_features=\"sqrt\",\n",
    "                             max_depth = 14,\n",
    "                             criterion = \"log_loss\",\n",
    "                             n_jobs=-1)\n",
    "\n",
    "rf5_cv = cross_validate(rf5, X_train, y_train[\"seasonal_vaccine\"].values.ravel(), cv=kf,\n",
    "                       scoring=scores, return_train_score=True)\n",
    "\n",
    "print_metrics(rf5_cv)"
   ]
  },
  {
   "cell_type": "markdown",
   "metadata": {},
   "source": [
    "## Balanced Random Forest:\n",
    "Despite this target is not so imbalanced, let's check the performance of this algorithm."
   ]
  },
  {
   "cell_type": "code",
   "execution_count": 31,
   "metadata": {},
   "outputs": [
    {
     "name": "stdout",
     "output_type": "stream",
     "text": [
      "Train roc_auc: 100.0%\n",
      "Train balanced_accuracy: 100.0%\n",
      "Train precision: 99.9%\n",
      "Train recall: 100.0%\n",
      "Train f1: 100.0%\n",
      "Train accuracy: 100.0%\n",
      "\n",
      "Validation roc_auc: 84.6%\n",
      "Validation balanced_accuracy: 77.6%\n",
      "Validation precision: 74.6%\n",
      "Validation recall: 77.6%\n",
      "Validation f1: 76.1%\n",
      "Validation accuracy: 77.6%\n"
     ]
    }
   ],
   "source": [
    "brf2 = BalancedRandomForestClassifier(bootstrap=True, sampling_strategy=\"auto\", replacement=False)\n",
    "brf2_cv = cross_validate(brf1, X_train, y_train[\"seasonal_vaccine\"].values.ravel(), cv=kf, scoring=scores, return_train_score=True)\n",
    "\n",
    "print_metrics(brf2_cv)"
   ]
  },
  {
   "cell_type": "code",
   "execution_count": 32,
   "metadata": {},
   "outputs": [],
   "source": [
    "# param_dist_brf2 = {\n",
    "#     \"n_estimators\": np.arange(50, 2000, 50),\n",
    "#     \"criterion\": ['entropy', 'gini'],\n",
    "#     \"max_depth\": np.arange(2, 15),\n",
    "#     \"min_samples_split\": np.arange(2, 50),\n",
    "#     \"min_samples_leaf\": np.arange(2, 50),\n",
    "#     \"max_features\": [\"sqrt\", \"log2\", None, 0.7, 0.75, 0.8, 0.85, 0.9, 0.95]\n",
    "# }\n",
    "\n",
    "# brf2_rscv = RandomizedSearchCV(BalancedRandomForestClassifier(bootstrap=True, sampling_strategy = \"auto\", replacement=False),\n",
    "#                              param_distributions=param_dist_brf2,\n",
    "#                              scoring=scores,\n",
    "#                              n_iter=100,\n",
    "#                              return_train_score=True,\n",
    "#                              # Fuction to select the best model\n",
    "#                              refit=lambda x: x[\"mean_test_roc_auc\"].argmax(),\n",
    "#                              cv=kf,\n",
    "#                              verbose=1,\n",
    "#                              n_jobs=-1)\n",
    "\n",
    "# brf2_rscv.fit(X_train, y_train[\"seasonal_vaccine\"].values.ravel())\n",
    "\n",
    "# print_search_metrics(brf2_rscv)"
   ]
  },
  {
   "cell_type": "markdown",
   "metadata": {},
   "source": [
    "## Gradient Boosting Decission Trees (GBDT)"
   ]
  },
  {
   "cell_type": "code",
   "execution_count": 33,
   "metadata": {},
   "outputs": [
    {
     "name": "stdout",
     "output_type": "stream",
     "text": [
      "Train roc_auc: 88.6%\n",
      "Train balanced_accuracy: 80.5%\n",
      "Train precision: 80.3%\n",
      "Train recall: 76.9%\n",
      "Train f1: 78.6%\n",
      "Train accuracy: 80.8%\n",
      "\n",
      "Validation roc_auc: 85.4%\n",
      "Validation balanced_accuracy: 77.1%\n",
      "Validation precision: 76.7%\n",
      "Validation recall: 73.0%\n",
      "Validation f1: 74.7%\n",
      "Validation accuracy: 77.4%\n"
     ]
    }
   ],
   "source": [
    "gbdt3 = GradientBoostingClassifier()\n",
    "\n",
    "gbdt3_cv = cross_validate(gbdt3, X_train, y_train[\"seasonal_vaccine\"].values.ravel(), cv=kf,\n",
    "                       scoring=scores, return_train_score=True)\n",
    "\n",
    "print_metrics(gbdt3_cv)"
   ]
  },
  {
   "cell_type": "code",
   "execution_count": 34,
   "metadata": {},
   "outputs": [
    {
     "data": {
      "image/png": "[encoded data removed]",
      "text/plain": [
       "<Figure size 640x480 with 2 Axes>"
      ]
     },
     "metadata": {},
     "output_type": "display_data"
    }
   ],
   "source": [
    "# cross_val_predict returns the predictions for each data point in the validation sets\n",
    "gbdt3_val_preds = cross_val_predict(gbdt3, X_train, y_train[\"seasonal_vaccine\"].values.ravel(), cv=kf)\n",
    "\n",
    "gbdt3_cm = confusion_matrix(y_train[\"seasonal_vaccine\"], gbdt3_val_preds, labels=[0, 1])\n",
    "gbdt3_disp = ConfusionMatrixDisplay(confusion_matrix=gbdt3_cm,\n",
    "                              display_labels=[0, 1])\n",
    "gbdt3_disp.plot()\n",
    "plt.show()"
   ]
  },
  {
   "cell_type": "code",
   "execution_count": 35,
   "metadata": {},
   "outputs": [],
   "source": [
    "# gbdt4_pipe = GradientBoostingClassifier()\n",
    "\n",
    "# param_dist_gbdt = {\n",
    "#     \"loss\": [\"log_loss\", \"exponential\"],\n",
    "#     \"learning_rate\": np.arange(0.0000001, 0.25, 0.0025),\n",
    "#     \"n_estimators\": np.arange(50, 2000, 50),\n",
    "#     \"max_depth\": np.arange(2, 15),\n",
    "#     \"min_samples_split\": np.arange(2, 25),\n",
    "#     \"min_samples_leaf\": np.arange(1, 25),\n",
    "#     \"criterion\": ['friedman_mse', 'squared_error'],\n",
    "#     \"max_features\": [\"sqrt\", \"log2\", None, 0.7, 0.75, 0.8, 0.85, 0.9, 0.95]\n",
    "# }\n",
    "\n",
    "# gbdt4_rscv = RandomizedSearchCV(gbdt4_pipe,\n",
    "#                              param_distributions=param_dist_gbdt,\n",
    "#                              scoring=scores,\n",
    "#                              n_iter=100,\n",
    "#                              return_train_score=True,\n",
    "#                              # Fuction to select the best model\n",
    "#                              refit=lambda x: x[\"mean_test_roc_auc\"].argmax(),\n",
    "#                              cv=kf,\n",
    "#                              verbose=1,\n",
    "#                              n_jobs=-1)\n",
    "# gbdt4_rscv.fit(X_train, y_train[\"seasonal_vaccine\"].values.ravel())\n",
    "\n",
    "# print_search_metrics(gbdt4_rscv)"
   ]
  },
  {
   "cell_type": "code",
   "execution_count": 36,
   "metadata": {},
   "outputs": [
    {
     "name": "stdout",
     "output_type": "stream",
     "text": [
      "Train roc_auc: 90.8%\n",
      "Train balanced_accuracy: 82.9%\n",
      "Train precision: 82.9%\n",
      "Train recall: 79.7%\n",
      "Train f1: 81.3%\n",
      "Train accuracy: 83.2%\n",
      "\n",
      "Validation roc_auc: 85.6%\n",
      "Validation balanced_accuracy: 77.6%\n",
      "Validation precision: 77.1%\n",
      "Validation recall: 73.8%\n",
      "Validation f1: 75.4%\n",
      "Validation accuracy: 77.9%\n"
     ]
    }
   ],
   "source": [
    "gbdt4 = GradientBoostingClassifier(n_estimators=500,\n",
    "                                   min_samples_split=6,\n",
    "                                   min_samples_leaf=3,\n",
    "                                   max_features=\"sqrt\",\n",
    "                                   max_depth=4,\n",
    "                                   loss=\"log_loss\",\n",
    "                                   learning_rate=0.03,\n",
    "                                   criterion=\"friedman_mse\")\n",
    "\n",
    "gbdt4_cv = cross_validate(gbdt4, X_train, y_train[\"seasonal_vaccine\"].values.ravel(), cv=kf,\n",
    "                       scoring=scores, return_train_score=True)\n",
    "\n",
    "print_metrics(gbdt4_cv)"
   ]
  },
  {
   "cell_type": "markdown",
   "metadata": {},
   "source": [
    "# Testing\n",
    "## `roc_auc_score` metric:\n",
    "For this study, we'll need to test the performance from our algorithms using `roc_auc_score` metric. \n",
    "\n",
    "*Compute Area Under the Receiver Operating Characteristic Curve (ROC AUC) from prediction scores.*"
   ]
  },
  {
   "cell_type": "code",
   "execution_count": 37,
   "metadata": {},
   "outputs": [],
   "source": [
    "# H1N1 Vaccine:\n",
    "lr1_test_res = roc_auc_score(y_test[\"h1n1_vaccine\"], cross_val_predict(bl1_pipe, X_test, y_test[\"h1n1_vaccine\"].values.ravel(), cv=kf))\n",
    "rf1_test_res = roc_auc_score(y_test[\"h1n1_vaccine\"], cross_val_predict(rf3_pipe, X_test, y_test[\"h1n1_vaccine\"].values.ravel(), cv=kf))\n",
    "blrf1_test_res = roc_auc_score(y_test[\"h1n1_vaccine\"], cross_val_predict(brf1, X_test, y_test[\"h1n1_vaccine\"].values.ravel(), cv=kf))\n",
    "gbdt1_test_res = roc_auc_score(y_test[\"h1n1_vaccine\"], cross_val_predict(gbdt2_pipe, X_test, y_test[\"h1n1_vaccine\"].values.ravel(), cv=kf))\n",
    "\n",
    "# Seasonal Vaccine:\n",
    "lr2_test_res = roc_auc_score(y_test[\"seasonal_vaccine\"], cross_val_predict(bl2, X_test, y_test[\"seasonal_vaccine\"].values.ravel(), cv=kf))\n",
    "rf2_test_res = roc_auc_score(y_test[\"seasonal_vaccine\"], cross_val_predict(rf5, X_test, y_test[\"seasonal_vaccine\"].values.ravel(), cv=kf))\n",
    "blrf2_test_res = roc_auc_score(y_test[\"seasonal_vaccine\"], cross_val_predict(brf2, X_test, y_test[\"seasonal_vaccine\"].values.ravel(), cv=kf))\n",
    "gbdt2_test_res = roc_auc_score(y_test[\"seasonal_vaccine\"], cross_val_predict(gbdt4, X_test, y_test[\"seasonal_vaccine\"].values.ravel(), cv=kf))"
   ]
  },
  {
   "cell_type": "markdown",
   "metadata": {},
   "source": [
    "## Final Charts:\n",
    "### H1N1 Vaccine:"
   ]
  },
  {
   "cell_type": "code",
   "execution_count": 38,
   "metadata": {},
   "outputs": [
    {
     "data": {
      "image/png": "[encoded data removed]",
      "text/plain": [
       "<Figure size 640x480 with 1 Axes>"
      ]
     },
     "metadata": {},
     "output_type": "display_data"
    }
   ],
   "source": [
    "model_test_roc_auc1 = {\n",
    "    'LinearRegression': lr1_test_res,\n",
    "    'RF': rf1_test_res,\n",
    "    'BalancedRF': blrf1_test_res,\n",
    "    'GBDT': gbdt1_test_res\n",
    "}\n",
    "\n",
    "x = range(len(model_test_roc_auc1))\n",
    "plt.bar(x, model_test_roc_auc1.values())\n",
    "plt.xticks(x, model_test_roc_auc1.keys())\n",
    "plt.ylabel('Mean Test ROC AUC')\n",
    "plt.show()"
   ]
  },
  {
   "cell_type": "code",
   "execution_count": 40,
   "metadata": {},
   "outputs": [
    {
     "data": {
      "image/png": "[encoded data removed]",
      "text/plain": [
       "<Figure size 640x480 with 1 Axes>"
      ]
     },
     "metadata": {},
     "output_type": "display_data"
    }
   ],
   "source": [
    "model_test_roc_auc2 = {\n",
    "    'LinearRegression': lr2_test_res,\n",
    "    'RF': rf2_test_res,\n",
    "    'BalancedRF': blrf2_test_res,\n",
    "    'GBDT': gbdt2_test_res\n",
    "}\n",
    "\n",
    "x = range(len(model_test_roc_auc2))\n",
    "plt.bar(x, model_test_roc_auc2.values())\n",
    "plt.xticks(x, model_test_roc_auc2.keys())\n",
    "plt.ylabel('Mean Test ROC AUC')\n",
    "plt.show()"
   ]
  },
  {
   "cell_type": "markdown",
   "metadata": {},
   "source": [
    "# Training with the whole Dataset:\n",
    "We'll now train the models with the whole available data, so we can have a better predictions for the sumbissions:"
   ]
  },
  {
   "cell_type": "code",
   "execution_count": 41,
   "metadata": {},
   "outputs": [
    {
     "name": "stdout",
     "output_type": "stream",
     "text": [
      "Train roc_auc: 93.8%\n",
      "Train balanced_accuracy: 85.8%\n",
      "Train precision: 58.5%\n",
      "Train recall: 88.5%\n",
      "Train f1: 70.4%\n",
      "Train accuracy: 84.3%\n",
      "\n",
      "Validation roc_auc: 86.1%\n",
      "Validation balanced_accuracy: 78.3%\n",
      "Validation precision: 51.8%\n",
      "Validation recall: 76.5%\n",
      "Validation f1: 61.2%\n",
      "Validation accuracy: 79.4%\n"
     ]
    }
   ],
   "source": [
    "# H1N1 Vaccine:\n",
    "h1n1_best = cross_validate(rf3_pipe, X, y[\"h1n1_vaccine\"], cv=200,\n",
    "                          scoring=scores, return_train_score=True, n_jobs=-1)\n",
    "\n",
    "rf3_pipe.fit(X, y[\"h1n1_vaccine\"])\n",
    "\n",
    "print_metrics(h1n1_best)\n"
   ]
  },
  {
   "cell_type": "code",
   "execution_count": 42,
   "metadata": {},
   "outputs": [
    {
     "name": "stdout",
     "output_type": "stream",
     "text": [
      "Train roc_auc: 89.8%\n",
      "Train balanced_accuracy: 81.9%\n",
      "Train precision: 81.9%\n",
      "Train recall: 78.6%\n",
      "Train f1: 80.2%\n",
      "Train accuracy: 82.2%\n",
      "\n",
      "Validation roc_auc: 86.1%\n",
      "Validation balanced_accuracy: 78.4%\n",
      "Validation precision: 78.7%\n",
      "Validation recall: 74.4%\n",
      "Validation f1: 76.0%\n",
      "Validation accuracy: 78.7%\n"
     ]
    }
   ],
   "source": [
    "# Seasonal Vaccine:\n",
    "seasonal_best = cross_validate(gbdt4, X, y[\"seasonal_vaccine\"], cv=200,\n",
    "                          scoring=scores, return_train_score=True, n_jobs=-1)\n",
    "\n",
    "gbdt4.fit(X, y[\"seasonal_vaccine\"])\n",
    "\n",
    "print_metrics(seasonal_best)"
   ]
  },
  {
   "cell_type": "markdown",
   "metadata": {},
   "source": [
    "# Saving Best Models:"
   ]
  },
  {
   "cell_type": "code",
   "execution_count": 62,
   "metadata": {},
   "outputs": [],
   "source": [
    "import pickle"
   ]
  },
  {
   "cell_type": "code",
   "execution_count": null,
   "metadata": {},
   "outputs": [
    {
     "name": "stdout",
     "output_type": "stream",
     "text": [
      "<class 'imblearn.pipeline.Pipeline'>\n",
      "<class 'sklearn.ensemble._gb.GradientBoostingClassifier'>\n"
     ]
    }
   ],
   "source": [
    "print(type(rf3_pipe))\n",
    "print(type(gbdt4))"
   ]
  },
  {
   "cell_type": "code",
   "execution_count": 65,
   "metadata": {},
   "outputs": [],
   "source": [
    "with open('Models/model_h1n1.pkl', 'wb') as b_h1n1:\n",
    "    pickle.dump(rf3_pipe, b_h1n1)\n",
    "    \n",
    "with open('Models/model_seasonal.pkl', 'wb') as b_seas:\n",
    "    pickle.dump(gbdt4, b_seas)"
   ]
  },
  {
   "cell_type": "markdown",
   "metadata": {},
   "source": [
    "# Staking Classifier:"
   ]
  },
  {
   "cell_type": "code",
   "execution_count": 43,
   "metadata": {},
   "outputs": [],
   "source": [
    "from sklearn.ensemble import StackingClassifier"
   ]
  },
  {
   "cell_type": "markdown",
   "metadata": {},
   "source": [
    "## H1N1 Vaccine:"
   ]
  },
  {
   "cell_type": "code",
   "execution_count": 66,
   "metadata": {},
   "outputs": [
    {
     "name": "stdout",
     "output_type": "stream",
     "text": [
      "Train roc_auc: 94.9%\n",
      "Train balanced_accuracy: 80.6%\n",
      "Train precision: 81.7%\n",
      "Train recall: 65.2%\n",
      "Train f1: 72.5%\n",
      "Train accuracy: 89.5%\n",
      "\n",
      "Validation roc_auc: 86.0%\n",
      "Validation balanced_accuracy: 72.3%\n",
      "Validation precision: 69.9%\n",
      "Validation recall: 50.5%\n",
      "Validation f1: 58.6%\n",
      "Validation accuracy: 84.9%\n"
     ]
    }
   ],
   "source": [
    "estimators = [\n",
    "    ('lr', LogisticRegression(max_iter=10_000)),\n",
    "    ('rf', ImbPipeline([\n",
    "        ('RUS', RandomUnderSampler()),\n",
    "        ('RF', RandomForestClassifier(n_estimators=1950, \n",
    "                                    min_samples_split= 8, \n",
    "                                    min_samples_leaf=2, \n",
    "                                    max_features=\"sqrt\",\n",
    "                                    max_depth= 14,\n",
    "                                    criterion = \"entropy\",\n",
    "                                    n_jobs=-1))\n",
    "    ])),\n",
    "    ('brf', BalancedRandomForestClassifier(bootstrap=True, sampling_strategy=\"auto\", replacement=False)),\n",
    "    ('gbt', ImbPipeline([\n",
    "        ('RUS', RandomUnderSampler()),\n",
    "        ('GBDT', GradientBoostingClassifier(n_estimators = 100,\n",
    "                                            min_samples_split = 3,\n",
    "                                            min_samples_leaf = 7,\n",
    "                                            max_features = 0.7,\n",
    "                                            max_depth = 2,\n",
    "                                            loss = \"log_loss\",\n",
    "                                            learning_rate = 0.175,\n",
    "                                            criterion = \"squared_error\"))\n",
    "    ]))\n",
    "]\n",
    "\n",
    "st1 = StackingClassifier(estimators=estimators)\n",
    "st1_cv = cross_validate(st1, X_train, y_train[\"h1n1_vaccine\"].values.ravel(), \n",
    "                        cv=kf, scoring=scores, return_train_score=True)\n",
    "\n",
    "print_metrics(st1_cv)"
   ]
  },
  {
   "cell_type": "code",
   "execution_count": 51,
   "metadata": {},
   "outputs": [],
   "source": [
    "# # H1N1 Vaccine:\n",
    "# st1_test_res = roc_auc_score(y_test[\"h1n1_vaccine\"], cross_val_predict(st1, X_test, y_test[\"h1n1_vaccine\"].values.ravel(), cv=kf))"
   ]
  },
  {
   "cell_type": "code",
   "execution_count": null,
   "metadata": {},
   "outputs": [],
   "source": [
    "# model_test_roc_auc1 = {\n",
    "#     'LinearRegression': lr1_test_res,\n",
    "#     'RF': rf1_test_res,\n",
    "#     'BalancedRF': blrf1_test_res,\n",
    "#     'GBDT': gbdt1_test_res,\n",
    "#     'StackingClassifier': st1_test_res\n",
    "# }\n",
    "\n",
    "# x = range(len(model_test_roc_auc1))\n",
    "# plt.bar(x, model_test_roc_auc1.values())\n",
    "# plt.xticks(x, model_test_roc_auc1.keys())\n",
    "# plt.ylabel('Mean Test ROC AUC')\n",
    "# plt.show()"
   ]
  },
  {
   "cell_type": "markdown",
   "metadata": {},
   "source": [
    "### Training with the whole data set:"
   ]
  },
  {
   "cell_type": "code",
   "execution_count": 67,
   "metadata": {},
   "outputs": [
    {
     "name": "stdout",
     "output_type": "stream",
     "text": [
      "Train roc_auc: 95.0%\n",
      "Train balanced_accuracy: 80.5%\n",
      "Train precision: 81.1%\n",
      "Train recall: 65.0%\n",
      "Train f1: 72.1%\n",
      "Train accuracy: 89.4%\n",
      "\n",
      "Validation roc_auc: 86.4%\n",
      "Validation balanced_accuracy: 72.1%\n",
      "Validation precision: 68.3%\n",
      "Validation recall: 50.4%\n",
      "Validation f1: 57.9%\n",
      "Validation accuracy: 84.5%\n"
     ]
    }
   ],
   "source": [
    "st_h1n1 = StackingClassifier(estimators=estimators)\n",
    "\n",
    "# Cross Validating:\n",
    "h1n1_st = cross_validate(st_h1n1, X, y[\"h1n1_vaccine\"], cv=20,\n",
    "                          scoring=scores, return_train_score=True, n_jobs=-1)\n",
    "\n",
    "st_h1n1.fit(X, y[\"h1n1_vaccine\"])\n",
    "\n",
    "print_metrics(h1n1_st)"
   ]
  },
  {
   "cell_type": "markdown",
   "metadata": {},
   "source": [
    "### Saving the model:"
   ]
  },
  {
   "cell_type": "code",
   "execution_count": 68,
   "metadata": {},
   "outputs": [],
   "source": [
    "with open('Models/model_h1n1_st.pkl', 'wb') as st:\n",
    "    pickle.dump(st_h1n1, st)"
   ]
  },
  {
   "cell_type": "markdown",
   "metadata": {},
   "source": [
    "## Seasonal Vaccine:"
   ]
  },
  {
   "cell_type": "code",
   "execution_count": 69,
   "metadata": {},
   "outputs": [
    {
     "name": "stdout",
     "output_type": "stream",
     "text": [
      "Train roc_auc: 94.6%\n",
      "Train balanced_accuracy: 86.5%\n",
      "Train precision: 86.6%\n",
      "Train recall: 84.1%\n",
      "Train f1: 85.3%\n",
      "Train accuracy: 86.7%\n",
      "\n",
      "Validation roc_auc: 85.7%\n",
      "Validation balanced_accuracy: 77.7%\n",
      "Validation precision: 77.2%\n",
      "Validation recall: 74.0%\n",
      "Validation f1: 75.5%\n",
      "Validation accuracy: 78.0%\n"
     ]
    }
   ],
   "source": [
    "estimators2 = [\n",
    "    ('lr', LogisticRegression(max_iter=10_000)),\n",
    "    ('rf', RandomForestClassifier(n_estimators=1_950,\n",
    "                             min_samples_split=14,\n",
    "                             min_samples_leaf=3,\n",
    "                             max_features=\"sqrt\",\n",
    "                             max_depth = 14,\n",
    "                             criterion = \"log_loss\",\n",
    "                             n_jobs=-1)),\n",
    "    ('brf', BalancedRandomForestClassifier(bootstrap=True, sampling_strategy=\"auto\", replacement=False)),\n",
    "    ('gbt', GradientBoostingClassifier(n_estimators=500,\n",
    "                                   min_samples_split=6,\n",
    "                                   min_samples_leaf=3,\n",
    "                                   max_features=\"sqrt\",\n",
    "                                   max_depth=4,\n",
    "                                   loss=\"log_loss\",\n",
    "                                   learning_rate=0.03,\n",
    "                                   criterion=\"friedman_mse\"))\n",
    "]\n",
    "\n",
    "\n",
    "st1_cv = cross_validate(StackingClassifier(estimators=estimators2), X_train, y_train[\"seasonal_vaccine\"].values.ravel(), \n",
    "                        cv=kf, scoring=scores, return_train_score=True)\n",
    "\n",
    "print_metrics(st1_cv)"
   ]
  },
  {
   "cell_type": "code",
   "execution_count": null,
   "metadata": {},
   "outputs": [],
   "source": [
    "# # Seasonal Vaccine:\n",
    "# st2_test_res = roc_auc_score(y_test[\"seasonal_vaccine\"], cross_val_predict(StackingClassifier(estimators=estimators2), X_test, y_test[\"seasonal_vaccine\"].values.ravel(), cv=kf))"
   ]
  },
  {
   "cell_type": "code",
   "execution_count": null,
   "metadata": {},
   "outputs": [],
   "source": [
    "# model_test_roc_auc2 = {\n",
    "#     'LinearRegression': lr2_test_res,\n",
    "#     'RF': rf2_test_res,\n",
    "#     'BalancedRF': blrf2_test_res,\n",
    "#     'GBDT': gbdt2_test_res,\n",
    "#     'StackingClassifier': st2_test_res\n",
    "# }\n",
    "\n",
    "# x = range(len(model_test_roc_auc2))\n",
    "# plt.bar(x, model_test_roc_auc2.values())\n",
    "# plt.xticks(x, model_test_roc_auc2.keys())\n",
    "# plt.ylabel('Mean Test ROC AUC')\n",
    "# plt.show()"
   ]
  },
  {
   "cell_type": "markdown",
   "metadata": {},
   "source": [
    "### Training with the whole data set:"
   ]
  },
  {
   "cell_type": "code",
   "execution_count": 72,
   "metadata": {},
   "outputs": [
    {
     "data": {
      "text/html": [
       "<style>#sk-container-id-1 {\n",
       "  /* Definition of color scheme common for light and dark mode */\n",
       "  --sklearn-color-text: black;\n",
       "  --sklearn-color-line: gray;\n",
       "  /* Definition of color scheme for unfitted estimators */\n",
       "  --sklearn-color-unfitted-level-0: #fff5e6;\n",
       "  --sklearn-color-unfitted-level-1: #f6e4d2;\n",
       "  --sklearn-color-unfitted-level-2: #ffe0b3;\n",
       "  --sklearn-color-unfitted-level-3: chocolate;\n",
       "  /* Definition of color scheme for fitted estimators */\n",
       "  --sklearn-color-fitted-level-0: #f0f8ff;\n",
       "  --sklearn-color-fitted-level-1: #d4ebff;\n",
       "  --sklearn-color-fitted-level-2: #b3dbfd;\n",
       "  --sklearn-color-fitted-level-3: cornflowerblue;\n",
       "\n",
       "  /* Specific color for light theme */\n",
       "  --sklearn-color-text-on-default-background: var(--sg-text-color, var(--theme-code-foreground, var(--jp-content-font-color1, black)));\n",
       "  --sklearn-color-background: var(--sg-background-color, var(--theme-background, var(--jp-layout-color0, white)));\n",
       "  --sklearn-color-border-box: var(--sg-text-color, var(--theme-code-foreground, var(--jp-content-font-color1, black)));\n",
       "  --sklearn-color-icon: #696969;\n",
       "\n",
       "  @media (prefers-color-scheme: dark) {\n",
       "    /* Redefinition of color scheme for dark theme */\n",
       "    --sklearn-color-text-on-default-background: var(--sg-text-color, var(--theme-code-foreground, var(--jp-content-font-color1, white)));\n",
       "    --sklearn-color-background: var(--sg-background-color, var(--theme-background, var(--jp-layout-color0, #111)));\n",
       "    --sklearn-color-border-box: var(--sg-text-color, var(--theme-code-foreground, var(--jp-content-font-color1, white)));\n",
       "    --sklearn-color-icon: #878787;\n",
       "  }\n",
       "}\n",
       "\n",
       "#sk-container-id-1 {\n",
       "  color: var(--sklearn-color-text);\n",
       "}\n",
       "\n",
       "#sk-container-id-1 pre {\n",
       "  padding: 0;\n",
       "}\n",
       "\n",
       "#sk-container-id-1 input.sk-hidden--visually {\n",
       "  border: 0;\n",
       "  clip: rect(1px 1px 1px 1px);\n",
       "  clip: rect(1px, 1px, 1px, 1px);\n",
       "  height: 1px;\n",
       "  margin: -1px;\n",
       "  overflow: hidden;\n",
       "  padding: 0;\n",
       "  position: absolute;\n",
       "  width: 1px;\n",
       "}\n",
       "\n",
       "#sk-container-id-1 div.sk-dashed-wrapped {\n",
       "  border: 1px dashed var(--sklearn-color-line);\n",
       "  margin: 0 0.4em 0.5em 0.4em;\n",
       "  box-sizing: border-box;\n",
       "  padding-bottom: 0.4em;\n",
       "  background-color: var(--sklearn-color-background);\n",
       "}\n",
       "\n",
       "#sk-container-id-1 div.sk-container {\n",
       "  /* jupyter's `normalize.less` sets `[hidden] { display: none; }`\n",
       "     but bootstrap.min.css set `[hidden] { display: none !important; }`\n",
       "     so we also need the `!important` here to be able to override the\n",
       "     default hidden behavior on the sphinx rendered scikit-learn.org.\n",
       "     See: https://github.com/scikit-learn/scikit-learn/issues/21755 */\n",
       "  display: inline-block !important;\n",
       "  position: relative;\n",
       "}\n",
       "\n",
       "#sk-container-id-1 div.sk-text-repr-fallback {\n",
       "  display: none;\n",
       "}\n",
       "\n",
       "div.sk-parallel-item,\n",
       "div.sk-serial,\n",
       "div.sk-item {\n",
       "  /* draw centered vertical line to link estimators */\n",
       "  background-image: linear-gradient(var(--sklearn-color-text-on-default-background), var(--sklearn-color-text-on-default-background));\n",
       "  background-size: 2px 100%;\n",
       "  background-repeat: no-repeat;\n",
       "  background-position: center center;\n",
       "}\n",
       "\n",
       "/* Parallel-specific style estimator block */\n",
       "\n",
       "#sk-container-id-1 div.sk-parallel-item::after {\n",
       "  content: \"\";\n",
       "  width: 100%;\n",
       "  border-bottom: 2px solid var(--sklearn-color-text-on-default-background);\n",
       "  flex-grow: 1;\n",
       "}\n",
       "\n",
       "#sk-container-id-1 div.sk-parallel {\n",
       "  display: flex;\n",
       "  align-items: stretch;\n",
       "  justify-content: center;\n",
       "  background-color: var(--sklearn-color-background);\n",
       "  position: relative;\n",
       "}\n",
       "\n",
       "#sk-container-id-1 div.sk-parallel-item {\n",
       "  display: flex;\n",
       "  flex-direction: column;\n",
       "}\n",
       "\n",
       "#sk-container-id-1 div.sk-parallel-item:first-child::after {\n",
       "  align-self: flex-end;\n",
       "  width: 50%;\n",
       "}\n",
       "\n",
       "#sk-container-id-1 div.sk-parallel-item:last-child::after {\n",
       "  align-self: flex-start;\n",
       "  width: 50%;\n",
       "}\n",
       "\n",
       "#sk-container-id-1 div.sk-parallel-item:only-child::after {\n",
       "  width: 0;\n",
       "}\n",
       "\n",
       "/* Serial-specific style estimator block */\n",
       "\n",
       "#sk-container-id-1 div.sk-serial {\n",
       "  display: flex;\n",
       "  flex-direction: column;\n",
       "  align-items: center;\n",
       "  background-color: var(--sklearn-color-background);\n",
       "  padding-right: 1em;\n",
       "  padding-left: 1em;\n",
       "}\n",
       "\n",
       "\n",
       "/* Toggleable style: style used for estimator/Pipeline/ColumnTransformer box that is\n",
       "clickable and can be expanded/collapsed.\n",
       "- Pipeline and ColumnTransformer use this feature and define the default style\n",
       "- Estimators will overwrite some part of the style using the `sk-estimator` class\n",
       "*/\n",
       "\n",
       "/* Pipeline and ColumnTransformer style (default) */\n",
       "\n",
       "#sk-container-id-1 div.sk-toggleable {\n",
       "  /* Default theme specific background. It is overwritten whether we have a\n",
       "  specific estimator or a Pipeline/ColumnTransformer */\n",
       "  background-color: var(--sklearn-color-background);\n",
       "}\n",
       "\n",
       "/* Toggleable label */\n",
       "#sk-container-id-1 label.sk-toggleable__label {\n",
       "  cursor: pointer;\n",
       "  display: block;\n",
       "  width: 100%;\n",
       "  margin-bottom: 0;\n",
       "  padding: 0.5em;\n",
       "  box-sizing: border-box;\n",
       "  text-align: center;\n",
       "}\n",
       "\n",
       "#sk-container-id-1 label.sk-toggleable__label-arrow:before {\n",
       "  /* Arrow on the left of the label */\n",
       "  content: \"▸\";\n",
       "  float: left;\n",
       "  margin-right: 0.25em;\n",
       "  color: var(--sklearn-color-icon);\n",
       "}\n",
       "\n",
       "#sk-container-id-1 label.sk-toggleable__label-arrow:hover:before {\n",
       "  color: var(--sklearn-color-text);\n",
       "}\n",
       "\n",
       "/* Toggleable content - dropdown */\n",
       "\n",
       "#sk-container-id-1 div.sk-toggleable__content {\n",
       "  max-height: 0;\n",
       "  max-width: 0;\n",
       "  overflow: hidden;\n",
       "  text-align: left;\n",
       "  /* unfitted */\n",
       "  background-color: var(--sklearn-color-unfitted-level-0);\n",
       "}\n",
       "\n",
       "#sk-container-id-1 div.sk-toggleable__content.fitted {\n",
       "  /* fitted */\n",
       "  background-color: var(--sklearn-color-fitted-level-0);\n",
       "}\n",
       "\n",
       "#sk-container-id-1 div.sk-toggleable__content pre {\n",
       "  margin: 0.2em;\n",
       "  border-radius: 0.25em;\n",
       "  color: var(--sklearn-color-text);\n",
       "  /* unfitted */\n",
       "  background-color: var(--sklearn-color-unfitted-level-0);\n",
       "}\n",
       "\n",
       "#sk-container-id-1 div.sk-toggleable__content.fitted pre {\n",
       "  /* unfitted */\n",
       "  background-color: var(--sklearn-color-fitted-level-0);\n",
       "}\n",
       "\n",
       "#sk-container-id-1 input.sk-toggleable__control:checked~div.sk-toggleable__content {\n",
       "  /* Expand drop-down */\n",
       "  max-height: 200px;\n",
       "  max-width: 100%;\n",
       "  overflow: auto;\n",
       "}\n",
       "\n",
       "#sk-container-id-1 input.sk-toggleable__control:checked~label.sk-toggleable__label-arrow:before {\n",
       "  content: \"▾\";\n",
       "}\n",
       "\n",
       "/* Pipeline/ColumnTransformer-specific style */\n",
       "\n",
       "#sk-container-id-1 div.sk-label input.sk-toggleable__control:checked~label.sk-toggleable__label {\n",
       "  color: var(--sklearn-color-text);\n",
       "  background-color: var(--sklearn-color-unfitted-level-2);\n",
       "}\n",
       "\n",
       "#sk-container-id-1 div.sk-label.fitted input.sk-toggleable__control:checked~label.sk-toggleable__label {\n",
       "  background-color: var(--sklearn-color-fitted-level-2);\n",
       "}\n",
       "\n",
       "/* Estimator-specific style */\n",
       "\n",
       "/* Colorize estimator box */\n",
       "#sk-container-id-1 div.sk-estimator input.sk-toggleable__control:checked~label.sk-toggleable__label {\n",
       "  /* unfitted */\n",
       "  background-color: var(--sklearn-color-unfitted-level-2);\n",
       "}\n",
       "\n",
       "#sk-container-id-1 div.sk-estimator.fitted input.sk-toggleable__control:checked~label.sk-toggleable__label {\n",
       "  /* fitted */\n",
       "  background-color: var(--sklearn-color-fitted-level-2);\n",
       "}\n",
       "\n",
       "#sk-container-id-1 div.sk-label label.sk-toggleable__label,\n",
       "#sk-container-id-1 div.sk-label label {\n",
       "  /* The background is the default theme color */\n",
       "  color: var(--sklearn-color-text-on-default-background);\n",
       "}\n",
       "\n",
       "/* On hover, darken the color of the background */\n",
       "#sk-container-id-1 div.sk-label:hover label.sk-toggleable__label {\n",
       "  color: var(--sklearn-color-text);\n",
       "  background-color: var(--sklearn-color-unfitted-level-2);\n",
       "}\n",
       "\n",
       "/* Label box, darken color on hover, fitted */\n",
       "#sk-container-id-1 div.sk-label.fitted:hover label.sk-toggleable__label.fitted {\n",
       "  color: var(--sklearn-color-text);\n",
       "  background-color: var(--sklearn-color-fitted-level-2);\n",
       "}\n",
       "\n",
       "/* Estimator label */\n",
       "\n",
       "#sk-container-id-1 div.sk-label label {\n",
       "  font-family: monospace;\n",
       "  font-weight: bold;\n",
       "  display: inline-block;\n",
       "  line-height: 1.2em;\n",
       "}\n",
       "\n",
       "#sk-container-id-1 div.sk-label-container {\n",
       "  text-align: center;\n",
       "}\n",
       "\n",
       "/* Estimator-specific */\n",
       "#sk-container-id-1 div.sk-estimator {\n",
       "  font-family: monospace;\n",
       "  border: 1px dotted var(--sklearn-color-border-box);\n",
       "  border-radius: 0.25em;\n",
       "  box-sizing: border-box;\n",
       "  margin-bottom: 0.5em;\n",
       "  /* unfitted */\n",
       "  background-color: var(--sklearn-color-unfitted-level-0);\n",
       "}\n",
       "\n",
       "#sk-container-id-1 div.sk-estimator.fitted {\n",
       "  /* fitted */\n",
       "  background-color: var(--sklearn-color-fitted-level-0);\n",
       "}\n",
       "\n",
       "/* on hover */\n",
       "#sk-container-id-1 div.sk-estimator:hover {\n",
       "  /* unfitted */\n",
       "  background-color: var(--sklearn-color-unfitted-level-2);\n",
       "}\n",
       "\n",
       "#sk-container-id-1 div.sk-estimator.fitted:hover {\n",
       "  /* fitted */\n",
       "  background-color: var(--sklearn-color-fitted-level-2);\n",
       "}\n",
       "\n",
       "/* Specification for estimator info (e.g. \"i\" and \"?\") */\n",
       "\n",
       "/* Common style for \"i\" and \"?\" */\n",
       "\n",
       ".sk-estimator-doc-link,\n",
       "a:link.sk-estimator-doc-link,\n",
       "a:visited.sk-estimator-doc-link {\n",
       "  float: right;\n",
       "  font-size: smaller;\n",
       "  line-height: 1em;\n",
       "  font-family: monospace;\n",
       "  background-color: var(--sklearn-color-background);\n",
       "  border-radius: 1em;\n",
       "  height: 1em;\n",
       "  width: 1em;\n",
       "  text-decoration: none !important;\n",
       "  margin-left: 1ex;\n",
       "  /* unfitted */\n",
       "  border: var(--sklearn-color-unfitted-level-1) 1pt solid;\n",
       "  color: var(--sklearn-color-unfitted-level-1);\n",
       "}\n",
       "\n",
       ".sk-estimator-doc-link.fitted,\n",
       "a:link.sk-estimator-doc-link.fitted,\n",
       "a:visited.sk-estimator-doc-link.fitted {\n",
       "  /* fitted */\n",
       "  border: var(--sklearn-color-fitted-level-1) 1pt solid;\n",
       "  color: var(--sklearn-color-fitted-level-1);\n",
       "}\n",
       "\n",
       "/* On hover */\n",
       "div.sk-estimator:hover .sk-estimator-doc-link:hover,\n",
       ".sk-estimator-doc-link:hover,\n",
       "div.sk-label-container:hover .sk-estimator-doc-link:hover,\n",
       ".sk-estimator-doc-link:hover {\n",
       "  /* unfitted */\n",
       "  background-color: var(--sklearn-color-unfitted-level-3);\n",
       "  color: var(--sklearn-color-background);\n",
       "  text-decoration: none;\n",
       "}\n",
       "\n",
       "div.sk-estimator.fitted:hover .sk-estimator-doc-link.fitted:hover,\n",
       ".sk-estimator-doc-link.fitted:hover,\n",
       "div.sk-label-container:hover .sk-estimator-doc-link.fitted:hover,\n",
       ".sk-estimator-doc-link.fitted:hover {\n",
       "  /* fitted */\n",
       "  background-color: var(--sklearn-color-fitted-level-3);\n",
       "  color: var(--sklearn-color-background);\n",
       "  text-decoration: none;\n",
       "}\n",
       "\n",
       "/* Span, style for the box shown on hovering the info icon */\n",
       ".sk-estimator-doc-link span {\n",
       "  display: none;\n",
       "  z-index: 9999;\n",
       "  position: relative;\n",
       "  font-weight: normal;\n",
       "  right: .2ex;\n",
       "  padding: .5ex;\n",
       "  margin: .5ex;\n",
       "  width: min-content;\n",
       "  min-width: 20ex;\n",
       "  max-width: 50ex;\n",
       "  color: var(--sklearn-color-text);\n",
       "  box-shadow: 2pt 2pt 4pt #999;\n",
       "  /* unfitted */\n",
       "  background: var(--sklearn-color-unfitted-level-0);\n",
       "  border: .5pt solid var(--sklearn-color-unfitted-level-3);\n",
       "}\n",
       "\n",
       ".sk-estimator-doc-link.fitted span {\n",
       "  /* fitted */\n",
       "  background: var(--sklearn-color-fitted-level-0);\n",
       "  border: var(--sklearn-color-fitted-level-3);\n",
       "}\n",
       "\n",
       ".sk-estimator-doc-link:hover span {\n",
       "  display: block;\n",
       "}\n",
       "\n",
       "/* \"?\"-specific style due to the `<a>` HTML tag */\n",
       "\n",
       "#sk-container-id-1 a.estimator_doc_link {\n",
       "  float: right;\n",
       "  font-size: 1rem;\n",
       "  line-height: 1em;\n",
       "  font-family: monospace;\n",
       "  background-color: var(--sklearn-color-background);\n",
       "  border-radius: 1rem;\n",
       "  height: 1rem;\n",
       "  width: 1rem;\n",
       "  text-decoration: none;\n",
       "  /* unfitted */\n",
       "  color: var(--sklearn-color-unfitted-level-1);\n",
       "  border: var(--sklearn-color-unfitted-level-1) 1pt solid;\n",
       "}\n",
       "\n",
       "#sk-container-id-1 a.estimator_doc_link.fitted {\n",
       "  /* fitted */\n",
       "  border: var(--sklearn-color-fitted-level-1) 1pt solid;\n",
       "  color: var(--sklearn-color-fitted-level-1);\n",
       "}\n",
       "\n",
       "/* On hover */\n",
       "#sk-container-id-1 a.estimator_doc_link:hover {\n",
       "  /* unfitted */\n",
       "  background-color: var(--sklearn-color-unfitted-level-3);\n",
       "  color: var(--sklearn-color-background);\n",
       "  text-decoration: none;\n",
       "}\n",
       "\n",
       "#sk-container-id-1 a.estimator_doc_link.fitted:hover {\n",
       "  /* fitted */\n",
       "  background-color: var(--sklearn-color-fitted-level-3);\n",
       "}\n",
       "</style><div id=\"sk-container-id-1\" class=\"sk-top-container\"><div class=\"sk-text-repr-fallback\"><pre>StackingClassifier(estimators=[(&#x27;lr&#x27;, LogisticRegression(max_iter=10000)),\n",
       "                               (&#x27;rf&#x27;,\n",
       "                                RandomForestClassifier(criterion=&#x27;log_loss&#x27;,\n",
       "                                                       max_depth=14,\n",
       "                                                       min_samples_leaf=3,\n",
       "                                                       min_samples_split=14,\n",
       "                                                       n_estimators=1950,\n",
       "                                                       n_jobs=-1)),\n",
       "                               (&#x27;brf&#x27;,\n",
       "                                BalancedRandomForestClassifier(bootstrap=True,\n",
       "                                                               replacement=False,\n",
       "                                                               sampling_strategy=&#x27;auto&#x27;)),\n",
       "                               (&#x27;gbt&#x27;,\n",
       "                                GradientBoostingClassifier(learning_rate=0.03,\n",
       "                                                           max_depth=4,\n",
       "                                                           max_features=&#x27;sqrt&#x27;,\n",
       "                                                           min_samples_leaf=3,\n",
       "                                                           min_samples_split=6,\n",
       "                                                           n_estimators=500))])</pre><b>In a Jupyter environment, please rerun this cell to show the HTML representation or trust the notebook. <br />On GitHub, the HTML representation is unable to render, please try loading this page with nbviewer.org.</b></div><div class=\"sk-container\" hidden><div class=\"sk-item sk-dashed-wrapped\"><div class=\"sk-label-container\"><div class=\"sk-label fitted sk-toggleable\"><input class=\"sk-toggleable__control sk-hidden--visually\" id=\"sk-estimator-id-1\" type=\"checkbox\" ><label for=\"sk-estimator-id-1\" class=\"sk-toggleable__label fitted sk-toggleable__label-arrow fitted\">&nbsp;&nbsp;StackingClassifier<a class=\"sk-estimator-doc-link fitted\" rel=\"noreferrer\" target=\"_blank\" href=\"https://scikit-learn.org/1.5/modules/generated/sklearn.ensemble.StackingClassifier.html\">?<span>Documentation for StackingClassifier</span></a><span class=\"sk-estimator-doc-link fitted\">i<span>Fitted</span></span></label><div class=\"sk-toggleable__content fitted\"><pre>StackingClassifier(estimators=[(&#x27;lr&#x27;, LogisticRegression(max_iter=10000)),\n",
       "                               (&#x27;rf&#x27;,\n",
       "                                RandomForestClassifier(criterion=&#x27;log_loss&#x27;,\n",
       "                                                       max_depth=14,\n",
       "                                                       min_samples_leaf=3,\n",
       "                                                       min_samples_split=14,\n",
       "                                                       n_estimators=1950,\n",
       "                                                       n_jobs=-1)),\n",
       "                               (&#x27;brf&#x27;,\n",
       "                                BalancedRandomForestClassifier(bootstrap=True,\n",
       "                                                               replacement=False,\n",
       "                                                               sampling_strategy=&#x27;auto&#x27;)),\n",
       "                               (&#x27;gbt&#x27;,\n",
       "                                GradientBoostingClassifier(learning_rate=0.03,\n",
       "                                                           max_depth=4,\n",
       "                                                           max_features=&#x27;sqrt&#x27;,\n",
       "                                                           min_samples_leaf=3,\n",
       "                                                           min_samples_split=6,\n",
       "                                                           n_estimators=500))])</pre></div> </div></div><div class=\"sk-serial\"><div class=\"sk-item\"><div class=\"sk-parallel\"><div class=\"sk-parallel-item\"><div class=\"sk-item\"><div class=\"sk-label-container\"><div class=\"sk-label fitted sk-toggleable\"><label>lr</label></div></div><div class=\"sk-serial\"><div class=\"sk-item\"><div class=\"sk-estimator fitted sk-toggleable\"><input class=\"sk-toggleable__control sk-hidden--visually\" id=\"sk-estimator-id-2\" type=\"checkbox\" ><label for=\"sk-estimator-id-2\" class=\"sk-toggleable__label fitted sk-toggleable__label-arrow fitted\">&nbsp;LogisticRegression<a class=\"sk-estimator-doc-link fitted\" rel=\"noreferrer\" target=\"_blank\" href=\"https://scikit-learn.org/1.5/modules/generated/sklearn.linear_model.LogisticRegression.html\">?<span>Documentation for LogisticRegression</span></a></label><div class=\"sk-toggleable__content fitted\"><pre>LogisticRegression(max_iter=10000)</pre></div> </div></div></div></div></div><div class=\"sk-parallel-item\"><div class=\"sk-item\"><div class=\"sk-label-container\"><div class=\"sk-label fitted sk-toggleable\"><label>rf</label></div></div><div class=\"sk-serial\"><div class=\"sk-item\"><div class=\"sk-estimator fitted sk-toggleable\"><input class=\"sk-toggleable__control sk-hidden--visually\" id=\"sk-estimator-id-3\" type=\"checkbox\" ><label for=\"sk-estimator-id-3\" class=\"sk-toggleable__label fitted sk-toggleable__label-arrow fitted\">&nbsp;RandomForestClassifier<a class=\"sk-estimator-doc-link fitted\" rel=\"noreferrer\" target=\"_blank\" href=\"https://scikit-learn.org/1.5/modules/generated/sklearn.ensemble.RandomForestClassifier.html\">?<span>Documentation for RandomForestClassifier</span></a></label><div class=\"sk-toggleable__content fitted\"><pre>RandomForestClassifier(criterion=&#x27;log_loss&#x27;, max_depth=14, min_samples_leaf=3,\n",
       "                       min_samples_split=14, n_estimators=1950, n_jobs=-1)</pre></div> </div></div></div></div></div><div class=\"sk-parallel-item\"><div class=\"sk-item\"><div class=\"sk-label-container\"><div class=\"sk-label fitted sk-toggleable\"><label>brf</label></div></div><div class=\"sk-serial\"><div class=\"sk-item\"><div class=\"sk-estimator fitted sk-toggleable\"><input class=\"sk-toggleable__control sk-hidden--visually\" id=\"sk-estimator-id-4\" type=\"checkbox\" ><label for=\"sk-estimator-id-4\" class=\"sk-toggleable__label fitted sk-toggleable__label-arrow fitted\">BalancedRandomForestClassifier</label><div class=\"sk-toggleable__content fitted\"><pre>BalancedRandomForestClassifier(bootstrap=True, replacement=False,\n",
       "                               sampling_strategy=&#x27;auto&#x27;)</pre></div> </div></div></div></div></div><div class=\"sk-parallel-item\"><div class=\"sk-item\"><div class=\"sk-label-container\"><div class=\"sk-label fitted sk-toggleable\"><label>gbt</label></div></div><div class=\"sk-serial\"><div class=\"sk-item\"><div class=\"sk-estimator fitted sk-toggleable\"><input class=\"sk-toggleable__control sk-hidden--visually\" id=\"sk-estimator-id-5\" type=\"checkbox\" ><label for=\"sk-estimator-id-5\" class=\"sk-toggleable__label fitted sk-toggleable__label-arrow fitted\">&nbsp;GradientBoostingClassifier<a class=\"sk-estimator-doc-link fitted\" rel=\"noreferrer\" target=\"_blank\" href=\"https://scikit-learn.org/1.5/modules/generated/sklearn.ensemble.GradientBoostingClassifier.html\">?<span>Documentation for GradientBoostingClassifier</span></a></label><div class=\"sk-toggleable__content fitted\"><pre>GradientBoostingClassifier(learning_rate=0.03, max_depth=4, max_features=&#x27;sqrt&#x27;,\n",
       "                           min_samples_leaf=3, min_samples_split=6,\n",
       "                           n_estimators=500)</pre></div> </div></div></div></div></div></div></div><div class=\"sk-item\"><div class=\"sk-parallel\"><div class=\"sk-parallel-item\"><div class=\"sk-item\"><div class=\"sk-label-container\"><div class=\"sk-label fitted sk-toggleable\"><label>final_estimator</label></div></div><div class=\"sk-serial\"><div class=\"sk-item\"><div class=\"sk-estimator fitted sk-toggleable\"><input class=\"sk-toggleable__control sk-hidden--visually\" id=\"sk-estimator-id-6\" type=\"checkbox\" ><label for=\"sk-estimator-id-6\" class=\"sk-toggleable__label fitted sk-toggleable__label-arrow fitted\">&nbsp;LogisticRegression<a class=\"sk-estimator-doc-link fitted\" rel=\"noreferrer\" target=\"_blank\" href=\"https://scikit-learn.org/1.5/modules/generated/sklearn.linear_model.LogisticRegression.html\">?<span>Documentation for LogisticRegression</span></a></label><div class=\"sk-toggleable__content fitted\"><pre>LogisticRegression()</pre></div> </div></div></div></div></div></div></div></div></div></div></div>"
      ],
      "text/plain": [
       "StackingClassifier(estimators=[('lr', LogisticRegression(max_iter=10000)),\n",
       "                               ('rf',\n",
       "                                RandomForestClassifier(criterion='log_loss',\n",
       "                                                       max_depth=14,\n",
       "                                                       min_samples_leaf=3,\n",
       "                                                       min_samples_split=14,\n",
       "                                                       n_estimators=1950,\n",
       "                                                       n_jobs=-1)),\n",
       "                               ('brf',\n",
       "                                BalancedRandomForestClassifier(bootstrap=True,\n",
       "                                                               replacement=False,\n",
       "                                                               sampling_strategy='auto')),\n",
       "                               ('gbt',\n",
       "                                GradientBoostingClassifier(learning_rate=0.03,\n",
       "                                                           max_depth=4,\n",
       "                                                           max_features='sqrt',\n",
       "                                                           min_samples_leaf=3,\n",
       "                                                           min_samples_split=6,\n",
       "                                                           n_estimators=500))])"
      ]
     },
     "execution_count": 72,
     "metadata": {},
     "output_type": "execute_result"
    }
   ],
   "source": [
    "st_seas = StackingClassifier(estimators=estimators2)\n",
    "\n",
    "# Cross Validating:\n",
    "seas_st = cross_validate(st_seas, X, y[\"seasonal_vaccine\"], cv=20,\n",
    "                          scoring=scores, return_train_score=True, n_jobs=-1)\n",
    "\n",
    "st_seas.fit(X, y[\"seasonal_vaccine\"])\n",
    "\n",
    "#print_metrics(st_seas)"
   ]
  },
  {
   "cell_type": "markdown",
   "metadata": {},
   "source": [
    "### Saving Model:"
   ]
  },
  {
   "cell_type": "code",
   "execution_count": 73,
   "metadata": {},
   "outputs": [],
   "source": [
    "with open('Models/model_seas_st.pkl', 'wb') as st:\n",
    "    pickle.dump(st_seas, st)"
   ]
  },
  {
   "cell_type": "markdown",
   "metadata": {},
   "source": [
    "# Catboost Classifier"
   ]
  },
  {
   "cell_type": "markdown",
   "metadata": {},
   "source": [
    "## H1N1 Vaccine:"
   ]
  },
  {
   "cell_type": "code",
   "execution_count": 52,
   "metadata": {},
   "outputs": [
    {
     "name": "stdout",
     "output_type": "stream",
     "text": [
      "Train roc_auc: 94.0%\n",
      "Train balanced_accuracy: 86.9%\n",
      "Train precision: 58.2%\n",
      "Train recall: 91.4%\n",
      "Train f1: 71.1%\n",
      "Train accuracy: 84.3%\n",
      "\n",
      "Validation roc_auc: 85.8%\n",
      "Validation balanced_accuracy: 77.9%\n",
      "Validation precision: 49.4%\n",
      "Validation recall: 77.0%\n",
      "Validation f1: 60.2%\n",
      "Validation accuracy: 78.5%\n"
     ]
    }
   ],
   "source": [
    "cb1_pipe = ImbPipeline([\n",
    "    ('RUS', RandomUnderSampler()),\n",
    "    ('cb', CatBoostClassifier(iterations=1_000, verbose=False))\n",
    " ])\n",
    "\n",
    "cb1_cv = cross_validate(cb1_pipe, X_train, y_train[\"h1n1_vaccine\"].values.ravel(), cv=kf,\n",
    "                       scoring=scores, return_train_score=True)\n",
    "\n",
    "print_metrics(cb1_cv)"
   ]
  },
  {
   "cell_type": "code",
   "execution_count": 53,
   "metadata": {},
   "outputs": [],
   "source": [
    "# H1N1 Vaccine:\n",
    "cb1_test_res = roc_auc_score(y_test[\"h1n1_vaccine\"], cross_val_predict(cb1_pipe, X_test, y_test[\"h1n1_vaccine\"].values.ravel(), cv=kf))"
   ]
  },
  {
   "cell_type": "code",
   "execution_count": 54,
   "metadata": {},
   "outputs": [
    {
     "data": {
      "image/png": "[encoded data removed]",
      "text/plain": [
       "<Figure size 640x480 with 1 Axes>"
      ]
     },
     "metadata": {},
     "output_type": "display_data"
    }
   ],
   "source": [
    "model_test_roc_auc1 = {\n",
    "    'LinearRegression': lr1_test_res,\n",
    "    'RF': rf1_test_res,\n",
    "    'BalancedRF': blrf1_test_res,\n",
    "    'GBDT': gbdt1_test_res,\n",
    "#    'StackingClassifier': st1_test_res,\n",
    "    'CatBoost': cb1_test_res\n",
    "}\n",
    "\n",
    "x = range(len(model_test_roc_auc1))\n",
    "plt.bar(x, model_test_roc_auc1.values())\n",
    "plt.xticks(x, model_test_roc_auc1.keys())\n",
    "plt.ylabel('Mean Test ROC AUC')\n",
    "plt.show()"
   ]
  },
  {
   "cell_type": "markdown",
   "metadata": {},
   "source": [
    "### Training whit the whole DataSet:"
   ]
  },
  {
   "cell_type": "code",
   "execution_count": 59,
   "metadata": {},
   "outputs": [
    {
     "name": "stdout",
     "output_type": "stream",
     "text": [
      "Train roc_auc: 96.0%\n",
      "Train balanced_accuracy: 83.4%\n",
      "Train precision: 90.3%\n",
      "Train recall: 68.7%\n",
      "Train f1: 78.0%\n",
      "Train accuracy: 91.8%\n",
      "\n",
      "Validation roc_auc: 86.3%\n",
      "Validation balanced_accuracy: 71.8%\n",
      "Validation precision: 72.2%\n",
      "Validation recall: 48.7%\n",
      "Validation f1: 58.0%\n",
      "Validation accuracy: 85.1%\n"
     ]
    }
   ],
   "source": [
    "cb_h1n1 = CatBoostClassifier(iterations=1_000, verbose=False)\n",
    "\n",
    "# Cross Validating:\n",
    "h1n1_cb = cross_validate(cb_h1n1, X, y[\"h1n1_vaccine\"], cv=20,\n",
    "                          scoring=scores, return_train_score=True, n_jobs=-1)\n",
    "\n",
    "cb_h1n1.fit(X, y[\"h1n1_vaccine\"])\n",
    "\n",
    "print_metrics(h1n1_cb)"
   ]
  },
  {
   "cell_type": "markdown",
   "metadata": {},
   "source": [
    "### Saving Model:"
   ]
  },
  {
   "cell_type": "code",
   "execution_count": 63,
   "metadata": {},
   "outputs": [],
   "source": [
    "with open('Models/model_h1n1_cb.pkl', 'wb') as cb:\n",
    "    pickle.dump(cb_h1n1, cb)"
   ]
  },
  {
   "cell_type": "markdown",
   "metadata": {},
   "source": [
    "## Seasonal Vaccine:"
   ]
  },
  {
   "cell_type": "code",
   "execution_count": 55,
   "metadata": {},
   "outputs": [
    {
     "name": "stdout",
     "output_type": "stream",
     "text": [
      "Train roc_auc: 95.6%\n",
      "Train balanced_accuracy: 88.7%\n",
      "Train precision: 88.8%\n",
      "Train recall: 86.6%\n",
      "Train f1: 87.7%\n",
      "Train accuracy: 88.9%\n",
      "\n",
      "Validation roc_auc: 85.5%\n",
      "Validation balanced_accuracy: 77.5%\n",
      "Validation precision: 77.0%\n",
      "Validation recall: 73.7%\n",
      "Validation f1: 75.3%\n",
      "Validation accuracy: 77.8%\n"
     ]
    }
   ],
   "source": [
    "cb2 = CatBoostClassifier(iterations=1_000, verbose=False)\n",
    "\n",
    "cb2_cv = cross_validate(cb2, X_train, y_train[\"seasonal_vaccine\"].values.ravel(), cv=kf,\n",
    "                       scoring=scores, return_train_score=True)\n",
    "\n",
    "print_metrics(cb2_cv)"
   ]
  },
  {
   "cell_type": "code",
   "execution_count": 56,
   "metadata": {},
   "outputs": [],
   "source": [
    "# Seasonal Vaccine:\n",
    "cb2_test_res = roc_auc_score(y_test[\"seasonal_vaccine\"], cross_val_predict(cb2, X_test, y_test[\"seasonal_vaccine\"].values.ravel(), cv=kf))"
   ]
  },
  {
   "cell_type": "code",
   "execution_count": 58,
   "metadata": {},
   "outputs": [
    {
     "data": {
      "image/png": "[encoded data removed]",
      "text/plain": [
       "<Figure size 640x480 with 1 Axes>"
      ]
     },
     "metadata": {},
     "output_type": "display_data"
    }
   ],
   "source": [
    "model_test_roc_auc2 = {\n",
    "    'LinearRegression': lr2_test_res,\n",
    "    'RF': rf2_test_res,\n",
    "    'BalancedRF': blrf2_test_res,\n",
    "    'GBDT': gbdt2_test_res,\n",
    "#    'StackingClassifier': st2_test_res,\n",
    "    'CatBoost': cb2_test_res\n",
    "}\n",
    "\n",
    "x = range(len(model_test_roc_auc2))\n",
    "plt.bar(x, model_test_roc_auc2.values())\n",
    "plt.xticks(x, model_test_roc_auc2.keys())\n",
    "plt.ylabel('Mean Test ROC AUC')\n",
    "plt.show()"
   ]
  },
  {
   "cell_type": "markdown",
   "metadata": {},
   "source": [
    "### Training whit the whole DataSet:"
   ]
  },
  {
   "cell_type": "code",
   "execution_count": 57,
   "metadata": {},
   "outputs": [
    {
     "name": "stdout",
     "output_type": "stream",
     "text": [
      "Train roc_auc: 94.9%\n",
      "Train balanced_accuracy: 87.9%\n",
      "Train precision: 88.0%\n",
      "Train recall: 85.6%\n",
      "Train f1: 86.8%\n",
      "Train accuracy: 88.0%\n",
      "\n",
      "Validation roc_auc: 86.1%\n",
      "Validation balanced_accuracy: 78.2%\n",
      "Validation precision: 77.9%\n",
      "Validation recall: 74.4%\n",
      "Validation f1: 76.0%\n",
      "Validation accuracy: 78.5%\n"
     ]
    }
   ],
   "source": [
    "cb_seas = CatBoostClassifier(iterations=1_000, verbose=False)\n",
    "\n",
    "# Cross Validating:\n",
    "seas_cb = cross_validate(cb_seas, X, y[\"seasonal_vaccine\"], cv=20,\n",
    "                          scoring=scores, return_train_score=True, n_jobs=-1)\n",
    "\n",
    "cb_seas.fit(X, y[\"seasonal_vaccine\"])\n",
    "\n",
    "print_metrics(seas_cb)"
   ]
  },
  {
   "cell_type": "markdown",
   "metadata": {},
   "source": [
    "### Saving Model:"
   ]
  },
  {
   "cell_type": "code",
   "execution_count": 64,
   "metadata": {},
   "outputs": [],
   "source": [
    "with open('Models/model_seas_cb.pkl', 'wb') as cb:\n",
    "    pickle.dump(cb_seas, cb)"
   ]
  }
 ],
 "metadata": {
  "kernelspec": {
   "display_name": "Python 3",
   "language": "python",
   "name": "python3"
  },
  "language_info": {
   "codemirror_mode": {
    "name": "ipython",
    "version": 3
   },
   "file_extension": ".py",
   "mimetype": "text/x-python",
   "name": "python",
   "nbconvert_exporter": "python",
   "pygments_lexer": "ipython3",
   "version": "3.12.4"
  }
 },
 "nbformat": 4,
 "nbformat_minor": 2
}
